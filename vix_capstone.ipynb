{
  "cells": [
    {
      "cell_type": "markdown",
      "metadata": {
        "id": "view-in-github",
        "colab_type": "text"
      },
      "source": [
        "<a href=\"https://colab.research.google.com/github/polarabbit/booksbot/blob/master/vix_capstone.ipynb\" target=\"_parent\"><img src=\"https://colab.research.google.com/assets/colab-badge.svg\" alt=\"Open In Colab\"/></a>"
      ]
    },
    {
      "cell_type": "code",
      "source": [
        "#pip install yfinance ; pip install backtesting"
      ],
      "metadata": {
        "id": "GqdYPjSt-sLG"
      },
      "id": "GqdYPjSt-sLG",
      "execution_count": null,
      "outputs": []
    },
    {
      "cell_type": "code",
      "source": [],
      "metadata": {
        "id": "pZQZJko1_-q2"
      },
      "id": "pZQZJko1_-q2",
      "execution_count": null,
      "outputs": []
    },
    {
      "cell_type": "code",
      "execution_count": null,
      "id": "f1948625",
      "metadata": {
        "id": "f1948625",
        "colab": {
          "base_uri": "https://localhost:8080/"
        },
        "outputId": "cd59db51-cadd-40a8-c213-037114fc0883"
      },
      "outputs": [
        {
          "output_type": "stream",
          "name": "stderr",
          "text": [
            "/usr/local/lib/python3.7/dist-packages/backtesting/_plotting.py:50: UserWarning: Jupyter Notebook detected. Setting Bokeh output to notebook. This may not work in Jupyter clients without JavaScript support (e.g. PyCharm, Spyder IDE). Reset with `backtesting.set_bokeh_output(notebook=False)`.\n",
            "  warnings.warn('Jupyter Notebook detected. '\n"
          ]
        }
      ],
      "source": [
        "import pandas as pd\n",
        "import numpy as np\n",
        "import yfinance as yf\n",
        "import pandas_datareader as pdr\n",
        "from statsmodels.tsa.stattools import adfuller\n",
        "from statsmodels.tsa.arima_model import ARIMA\n",
        "from scipy.stats import skew\n",
        "from scipy.stats import kurtosis\n",
        "import datetime\n",
        "from sklearn import linear_model\n",
        "import math\n",
        "import statsmodels.api as sm\n",
        "from sklearn.preprocessing import StandardScaler\n",
        "from statsmodels.graphics.tsaplots import plot_acf, plot_pacf\n",
        "from numpy import asarray\n",
        "from scipy.stats import pearsonr\n",
        "import seaborn as sns\n",
        "from datetime import date, timedelta, datetime\n",
        "from dateutil import parser\n",
        "from matplotlib import pyplot as plt\n",
        "from sklearn.tree import export_text\n",
        "from sklearn import tree, datasets\n",
        "import jinja2\n",
        "from sklearn.preprocessing import MinMaxScaler\n",
        "from sklearn.ensemble import RandomForestClassifier\n",
        "from sklearn.model_selection import train_test_split, GridSearchCV, cross_val_score\n",
        "from sklearn.metrics import mean_squared_error, mean_absolute_error, classification_report, accuracy_score, confusion_matrix\n",
        "from backtesting import Backtest, Strategy\n",
        "from backtesting.lib import crossover\n"
      ]
    },
    {
      "cell_type": "code",
      "execution_count": null,
      "id": "966681be",
      "metadata": {
        "id": "966681be"
      },
      "outputs": [],
      "source": [
        "vix_futures_csv = 'https://raw.githubusercontent.com/ayoubbensakhria/wqu690/master/data/vix_futures.csv'\n",
        "vix_futures = pd.read_csv(vix_futures_csv, parse_dates=True)"
      ]
    },
    {
      "cell_type": "code",
      "execution_count": null,
      "id": "8b9240a5",
      "metadata": {
        "id": "8b9240a5"
      },
      "outputs": [],
      "source": [
        "vix_futures.index = pd.to_datetime(vix_futures['Date']).dt.date"
      ]
    },
    {
      "cell_type": "code",
      "execution_count": null,
      "id": "43d613e1",
      "metadata": {
        "id": "43d613e1"
      },
      "outputs": [],
      "source": [
        "vix_df=vix_futures.drop(columns=['Date']).iloc[:,0:6]"
      ]
    },
    {
      "cell_type": "code",
      "execution_count": null,
      "id": "0c9833b4",
      "metadata": {
        "id": "0c9833b4"
      },
      "outputs": [],
      "source": [
        "vix_df=vix_df[::-1]"
      ]
    },
    {
      "cell_type": "code",
      "execution_count": null,
      "id": "a78589d1",
      "metadata": {
        "id": "a78589d1"
      },
      "outputs": [],
      "source": [
        "vix_df.index=pd.to_datetime(vix_df.index)"
      ]
    },
    {
      "cell_type": "code",
      "execution_count": null,
      "id": "5f4dc782",
      "metadata": {
        "scrolled": true,
        "id": "5f4dc782",
        "outputId": "906fb76e-d90e-4219-9b91-04a9ef623735",
        "colab": {
          "base_uri": "https://localhost:8080/"
        }
      },
      "outputs": [
        {
          "output_type": "stream",
          "name": "stdout",
          "text": [
            "[*********************100%***********************]  3 of 3 completed\n",
            "[*********************100%***********************]  5 of 5 completed\n"
          ]
        }
      ],
      "source": [
        "download = \"^GSPC ^IXIC ^VIX\"\n",
        "df = yf.download(download, start = \"1990-01-01\", end = \"2022-10-15\")[\"Adj Close\"]\n",
        "df1 = yf.download(\"^GSPC ^IXIC ^VIX VXX VXZ\", start = \"2018-01-26\", end = \"2022-10-15\")[\"Adj Close\"]"
      ]
    },
    {
      "cell_type": "code",
      "execution_count": null,
      "id": "58196c4d",
      "metadata": {
        "id": "58196c4d"
      },
      "outputs": [],
      "source": [
        "df1[\"diff\"]=df1[\"VXZ\"]-df1[\"VXX\"]"
      ]
    },
    {
      "cell_type": "code",
      "execution_count": null,
      "id": "a80fc036",
      "metadata": {
        "id": "a80fc036",
        "outputId": "d7e4be54-0baf-405b-f32a-83d88d5475c0",
        "colab": {
          "base_uri": "https://localhost:8080/",
          "height": 299
        }
      },
      "outputs": [
        {
          "output_type": "execute_result",
          "data": {
            "text/plain": [
              "Text(0.5, 1.0, '^GSPC S&P500')"
            ]
          },
          "metadata": {},
          "execution_count": 5
        },
        {
          "output_type": "display_data",
          "data": {
            "text/plain": [
              "<Figure size 720x288 with 1 Axes>"
            ],
            "image/png": "[encoded data removed]"
          },
          "metadata": {
            "needs_background": "light"
          }
        }
      ],
      "source": [
        "plt.figure(figsize =(10,4))\n",
        "plt.plot(df1['^GSPC'], color = '#2980B9', linewidth = 1, label = 'S&P500')\n",
        "plt.title(\"^GSPC S&P500\")"
      ]
    },
    {
      "cell_type": "code",
      "source": [
        "plt.figure(figsize =(10,4))\n",
        "plt.plot(vix_df['VIX'], color = '#2980B9', linewidth = 1, label = 'VIX ')\n",
        "plt.title(\"VIX \")"
      ],
      "metadata": {
        "colab": {
          "base_uri": "https://localhost:8080/",
          "height": 299
        },
        "id": "_DiJD3u0z5xX",
        "outputId": "bd3db137-3c79-480c-ced6-b1a556459ee8"
      },
      "id": "_DiJD3u0z5xX",
      "execution_count": null,
      "outputs": [
        {
          "output_type": "execute_result",
          "data": {
            "text/plain": [
              "Text(0.5, 1.0, 'VIX ')"
            ]
          },
          "metadata": {},
          "execution_count": 104
        },
        {
          "output_type": "display_data",
          "data": {
            "text/plain": [
              "<Figure size 720x288 with 1 Axes>"
            ],
            "image/png": "[encoded data removed]"
          },
          "metadata": {
            "needs_background": "light"
          }
        }
      ]
    },
    {
      "cell_type": "code",
      "source": [
        "plt.figure(figsize =(10,4))\n",
        "plt.plot(vix_df['M1'], color = '#2980B9', linewidth = 1, label = 'VIX Future M1')\n",
        "plt.title(\"VIX Future M1\")"
      ],
      "metadata": {
        "colab": {
          "base_uri": "https://localhost:8080/",
          "height": 299
        },
        "id": "gY-mOiJjz59T",
        "outputId": "6a47a146-ad72-4ba8-ce96-d12ef348bcb6"
      },
      "id": "gY-mOiJjz59T",
      "execution_count": null,
      "outputs": [
        {
          "output_type": "execute_result",
          "data": {
            "text/plain": [
              "Text(0.5, 1.0, 'VIX Future M1')"
            ]
          },
          "metadata": {},
          "execution_count": 105
        },
        {
          "output_type": "display_data",
          "data": {
            "text/plain": [
              "<Figure size 720x288 with 1 Axes>"
            ],
            "image/png": "[encoded data removed]"
          },
          "metadata": {
            "needs_background": "light"
          }
        }
      ]
    },
    {
      "cell_type": "code",
      "source": [
        "plt.figure(figsize =(10,4))\n",
        "plt.plot(vix_df['M2'], color = '#2980B9', linewidth = 1, label = 'VIX - M2')\n",
        "plt.title(\"VIX - M2\")"
      ],
      "metadata": {
        "colab": {
          "base_uri": "https://localhost:8080/",
          "height": 299
        },
        "id": "DiceQoPFz6Ix",
        "outputId": "1117c21f-8c27-48a8-9006-c5d9c885d239"
      },
      "id": "DiceQoPFz6Ix",
      "execution_count": null,
      "outputs": [
        {
          "output_type": "execute_result",
          "data": {
            "text/plain": [
              "Text(0.5, 1.0, 'VIX - M2')"
            ]
          },
          "metadata": {},
          "execution_count": 106
        },
        {
          "output_type": "display_data",
          "data": {
            "text/plain": [
              "<Figure size 720x288 with 1 Axes>"
            ],
            "image/png": "[encoded data removed]"
          },
          "metadata": {
            "needs_background": "light"
          }
        }
      ]
    },
    {
      "cell_type": "code",
      "execution_count": null,
      "id": "e54e79c5",
      "metadata": {
        "id": "e54e79c5"
      },
      "outputs": [],
      "source": [
        "def perform_adf_test(series):\n",
        "    result=adfuller(series)\n",
        "    print ('ADF stats: %f' % result[0])\n",
        "    print('p-value: %f' % result[1])"
      ]
    },
    {
      "cell_type": "code",
      "execution_count": null,
      "id": "d8ee05f8",
      "metadata": {
        "id": "d8ee05f8",
        "outputId": "29c695b4-c07b-4827-fb63-0b20f64cf2f2",
        "colab": {
          "base_uri": "https://localhost:8080/"
        }
      },
      "outputs": [
        {
          "output_type": "stream",
          "name": "stdout",
          "text": [
            "ADF stats: -1.590456\n",
            "p-value: 0.488386\n",
            "ADF stats: -1.754735\n",
            "p-value: 0.403155\n",
            "ADF stats: -1.456018\n",
            "p-value: 0.555146\n",
            "ADF stats: -3.841765\n",
            "p-value: 0.002508\n",
            "ADF stats: -1.396109\n",
            "p-value: 0.584140\n"
          ]
        }
      ],
      "source": [
        "#only VIX is stationary \n",
        "#only VIX is stationary \n",
        "perform_adf_test(df1.VXX),perform_adf_test(df1.VXZ),perform_adf_test(df1['^GSPC']),perform_adf_test(df1['^VIX']),\n",
        "perform_adf_test(df1['diff'])"
      ]
    },
    {
      "cell_type": "code",
      "execution_count": null,
      "id": "c36b60c9",
      "metadata": {
        "id": "c36b60c9",
        "outputId": "d5b2f86e-9e5f-486a-f79a-f079d31686c4",
        "colab": {
          "base_uri": "https://localhost:8080/",
          "height": 362
        }
      },
      "outputs": [
        {
          "output_type": "display_data",
          "data": {
            "text/plain": [
              "<Figure size 576x396 with 1 Axes>"
            ],
            "image/png": "[encoded data removed]"
          },
          "metadata": {}
        }
      ],
      "source": [
        "pacf_plot= plot_pacf(df1['^VIX'])"
      ]
    },
    {
      "cell_type": "code",
      "execution_count": null,
      "id": "33cc7df2",
      "metadata": {
        "scrolled": true,
        "id": "33cc7df2",
        "outputId": "f8ca85b3-5efe-4f16-b9ee-12df828b556c",
        "colab": {
          "base_uri": "https://localhost:8080/",
          "height": 362
        }
      },
      "outputs": [
        {
          "output_type": "display_data",
          "data": {
            "text/plain": [
              "<Figure size 576x396 with 1 Axes>"
            ],
            "image/png": "[encoded data removed]"
          },
          "metadata": {}
        }
      ],
      "source": [
        "acf_plot= plot_acf(df1['^VIX'])"
      ]
    },
    {
      "cell_type": "code",
      "execution_count": null,
      "id": "8c9bc57b",
      "metadata": {
        "id": "8c9bc57b"
      },
      "outputs": [],
      "source": [
        "#ARMA model for VIX"
      ]
    },
    {
      "cell_type": "code",
      "execution_count": null,
      "id": "39ce2b12",
      "metadata": {
        "id": "39ce2b12"
      },
      "outputs": [],
      "source": [
        "first_diffs_sp500=(df1['^GSPC']-df1['^GSPC'].shift(1)).dropna()"
      ]
    },
    {
      "cell_type": "code",
      "execution_count": null,
      "id": "8f4fa32e",
      "metadata": {
        "id": "8f4fa32e",
        "outputId": "bc1ad45d-4750-4d5e-9906-9faa1170472f",
        "colab": {
          "base_uri": "https://localhost:8080/",
          "height": 299
        }
      },
      "outputs": [
        {
          "output_type": "execute_result",
          "data": {
            "text/plain": [
              "Text(0.5, 1.0, 'first_diffs_sp500')"
            ]
          },
          "metadata": {},
          "execution_count": 15
        },
        {
          "output_type": "display_data",
          "data": {
            "text/plain": [
              "<Figure size 720x288 with 1 Axes>"
            ],
            "image/png": "[encoded data removed]"
          },
          "metadata": {
            "needs_background": "light"
          }
        }
      ],
      "source": [
        "plt.figure(figsize =(10,4))\n",
        "plt.plot(first_diffs_sp500, color = '#2980B9',linewidth = 1, label = 'first_diffs_sp500')\n",
        "plt.title(\"first_diffs_sp500\")"
      ]
    },
    {
      "cell_type": "code",
      "execution_count": null,
      "id": "faee03fd",
      "metadata": {
        "id": "faee03fd",
        "outputId": "b75b55dc-7950-498e-97f2-8c514d9d7c06",
        "colab": {
          "base_uri": "https://localhost:8080/"
        }
      },
      "outputs": [
        {
          "output_type": "stream",
          "name": "stdout",
          "text": [
            "ADF stats: -10.912581\n",
            "p-value: 0.000000\n"
          ]
        }
      ],
      "source": [
        "#stationary first diff sp 500\n",
        "perform_adf_test(first_diffs_sp500)"
      ]
    },
    {
      "cell_type": "code",
      "execution_count": null,
      "id": "1f2671b8",
      "metadata": {
        "id": "1f2671b8",
        "outputId": "3950ab98-aad3-485b-d10e-19a58c8a5398",
        "colab": {
          "base_uri": "https://localhost:8080/",
          "height": 337
        }
      },
      "outputs": [
        {
          "output_type": "stream",
          "name": "stderr",
          "text": [
            "/root/.local/lib/python3.7/site-packages/statsmodels/graphics/tsaplots.py:353: FutureWarning: The default method 'yw' can produce PACF values outside of the [-1,1] interval. After 0.13, the default will change tounadjusted Yule-Walker ('ywm'). You can use this method now by setting method='ywm'.\n",
            "  FutureWarning,\n"
          ]
        },
        {
          "output_type": "display_data",
          "data": {
            "text/plain": [
              "<Figure size 432x288 with 1 Axes>"
            ],
            "image/png": "[encoded data removed]"
          },
          "metadata": {
            "needs_background": "light"
          }
        }
      ],
      "source": [
        "pacf_plot= plot_pacf(first_diffs_sp500)"
      ]
    },
    {
      "cell_type": "code",
      "execution_count": null,
      "id": "39286588",
      "metadata": {
        "scrolled": true,
        "id": "39286588",
        "outputId": "c935653f-41a9-4e16-b50a-5746d773ac85",
        "colab": {
          "base_uri": "https://localhost:8080/",
          "height": 281
        }
      },
      "outputs": [
        {
          "output_type": "display_data",
          "data": {
            "text/plain": [
              "<Figure size 432x288 with 1 Axes>"
            ],
            "image/png": "[encoded data removed]"
          },
          "metadata": {
            "needs_background": "light"
          }
        }
      ],
      "source": [
        "acf_plot= plot_acf(first_diffs_sp500)"
      ]
    },
    {
      "cell_type": "code",
      "execution_count": null,
      "id": "9a928830",
      "metadata": {
        "id": "9a928830"
      },
      "outputs": [],
      "source": [
        "#modeling SP500 first difference\n",
        "model=ARMA(first_diffs_sp500,order=(1,0,1))\n",
        "\n"
      ]
    },
    {
      "cell_type": "code",
      "execution_count": null,
      "id": "864683df",
      "metadata": {
        "id": "864683df"
      },
      "outputs": [],
      "source": [
        "model_fit=model.fit()"
      ]
    },
    {
      "cell_type": "code",
      "execution_count": null,
      "id": "5c1de5b3",
      "metadata": {
        "id": "5c1de5b3"
      },
      "outputs": [],
      "source": [
        "prediction_info=model_fit.forecast(21)\n",
        "\n",
        "predictions = prediction_info[0]\n",
        "lower_bound = prediction_info[2][:,0]\n",
        "upper_bound = prediction_info[2][:,1]"
      ]
    },
    {
      "cell_type": "code",
      "execution_count": null,
      "id": "3f11fcbe",
      "metadata": {
        "scrolled": true,
        "id": "3f11fcbe"
      },
      "outputs": [],
      "source": [
        "predictions,lower_bound,upper_bound"
      ]
    },
    {
      "cell_type": "code",
      "execution_count": null,
      "id": "e23739a1",
      "metadata": {
        "scrolled": true,
        "id": "e23739a1"
      },
      "outputs": [],
      "source": [
        "plt.figure(figsize=(20,10))\n",
        "plt.plot(first_diffs_sp500.reset_index().drop(\"Date\",axis=1))\n",
        "plt.plot(np.arange(len(first_diffs_sp500)+1,len(first_diffs_sp500)+22),predictions,color='g')\n",
        "plt.fill_between(np.arange(len(first_diffs_sp500)+1,len(first_diffs_sp500)+22),lower_bound,upper_bound,color='g',alpha=0.1)"
      ]
    },
    {
      "cell_type": "code",
      "execution_count": null,
      "id": "a6c8d540",
      "metadata": {
        "id": "a6c8d540"
      },
      "outputs": [],
      "source": [
        "def undo_transformations(predictions, series):\n",
        "    first_pred = series.iloc[-1]+predictions[0]\n",
        "    orig_predictions =[first_pred]\n",
        "    \n",
        "    for i in range(len(predictions[1:])):\n",
        "        next_pred = orig_predictions[-1]+predictions[i+1]\n",
        "        orig_predictions.append(next_pred)\n",
        "    \n",
        "    return np.array(orig_predictions).flatten()"
      ]
    },
    {
      "cell_type": "code",
      "execution_count": null,
      "id": "e6d87d88",
      "metadata": {
        "id": "e6d87d88"
      },
      "outputs": [],
      "source": [
        "orig_predictions= undo_transformations(predictions,df1['^GSPC'] )\n",
        "orig_lower_bound = undo_transformations(lower_bound, df1['^GSPC'])\n",
        "orig_upper_bound = undo_transformations(upper_bound, df1['^GSPC'])"
      ]
    },
    {
      "cell_type": "code",
      "execution_count": null,
      "id": "a8e1e290",
      "metadata": {
        "id": "a8e1e290"
      },
      "outputs": [],
      "source": [
        "plt.figure(figsize=(20,10))\n",
        "plt.plot(df1['^GSPC'].reset_index().drop(\"Date\",axis=1))\n",
        "plt.plot(np.arange(len(df1['^GSPC'])+1,len(df1['^GSPC'])+22),orig_predictions,color='g')\n",
        "plt.fill_between(np.arange(len(df1['^GSPC'])+1,len(df1['^GSPC'])+22),orig_lower_bound,orig_upper_bound,color='g',alpha=0.1)\n",
        "plt.title('SP500')"
      ]
    },
    {
      "cell_type": "code",
      "execution_count": null,
      "id": "378fb6e9",
      "metadata": {
        "colab": {
          "base_uri": "https://localhost:8080/",
          "height": 455
        },
        "id": "378fb6e9",
        "outputId": "358e4715-e66b-4d20-9fa6-7f2e6edcc9c5"
      },
      "outputs": [
        {
          "output_type": "execute_result",
          "data": {
            "text/plain": [
              "              VIX     M1     M2  VIX3M    VXX        SPX\n",
              "Date                                                    \n",
              "2016-03-01  17.70  19.40  20.30  20.28  22.70  1978.3500\n",
              "2016-03-02  17.09  19.30  20.25  19.92  22.32  1986.4500\n",
              "2016-03-03  16.70  18.35  19.50  19.49  21.58  1993.4000\n",
              "2016-03-04  16.86  18.95  20.00  19.63  21.84  1999.9900\n",
              "2016-03-07  17.35  18.60  19.80  19.90  21.90  2001.7600\n",
              "...           ...    ...    ...    ...    ...        ...\n",
              "2022-04-04  18.57  21.00  23.21  23.03  24.43  4582.6401\n",
              "2022-04-05  21.03  22.85  24.55  24.90  24.81  4525.1201\n",
              "2022-04-06  22.10  23.95  25.53  25.80  24.38  4481.1499\n",
              "2022-04-07  21.55  22.72  24.62  25.23  24.05  4500.2100\n",
              "2022-04-08  21.16  22.60  24.60  25.17  24.67  4488.2798\n",
              "\n",
              "[1540 rows x 6 columns]"
            ],
            "text/html": [
              "\n",
              "  <div id=\"df-b5b3ded6-ffc5-4dc9-b868-b2c1e0a93463\">\n",
              "    <div class=\"colab-df-container\">\n",
              "      <div>\n",
              "<style scoped>\n",
              "    .dataframe tbody tr th:only-of-type {\n",
              "        vertical-align: middle;\n",
              "    }\n",
              "\n",
              "    .dataframe tbody tr th {\n",
              "        vertical-align: top;\n",
              "    }\n",
              "\n",
              "    .dataframe thead th {\n",
              "        text-align: right;\n",
              "    }\n",
              "</style>\n",
              "<table border=\"1\" class=\"dataframe\">\n",
              "  <thead>\n",
              "    <tr style=\"text-align: right;\">\n",
              "      <th></th>\n",
              "      <th>VIX</th>\n",
              "      <th>M1</th>\n",
              "      <th>M2</th>\n",
              "      <th>VIX3M</th>\n",
              "      <th>VXX</th>\n",
              "      <th>SPX</th>\n",
              "    </tr>\n",
              "    <tr>\n",
              "      <th>Date</th>\n",
              "      <th></th>\n",
              "      <th></th>\n",
              "      <th></th>\n",
              "      <th></th>\n",
              "      <th></th>\n",
              "      <th></th>\n",
              "    </tr>\n",
              "  </thead>\n",
              "  <tbody>\n",
              "    <tr>\n",
              "      <th>2016-03-01</th>\n",
              "      <td>17.70</td>\n",
              "      <td>19.40</td>\n",
              "      <td>20.30</td>\n",
              "      <td>20.28</td>\n",
              "      <td>22.70</td>\n",
              "      <td>1978.3500</td>\n",
              "    </tr>\n",
              "    <tr>\n",
              "      <th>2016-03-02</th>\n",
              "      <td>17.09</td>\n",
              "      <td>19.30</td>\n",
              "      <td>20.25</td>\n",
              "      <td>19.92</td>\n",
              "      <td>22.32</td>\n",
              "      <td>1986.4500</td>\n",
              "    </tr>\n",
              "    <tr>\n",
              "      <th>2016-03-03</th>\n",
              "      <td>16.70</td>\n",
              "      <td>18.35</td>\n",
              "      <td>19.50</td>\n",
              "      <td>19.49</td>\n",
              "      <td>21.58</td>\n",
              "      <td>1993.4000</td>\n",
              "    </tr>\n",
              "    <tr>\n",
              "      <th>2016-03-04</th>\n",
              "      <td>16.86</td>\n",
              "      <td>18.95</td>\n",
              "      <td>20.00</td>\n",
              "      <td>19.63</td>\n",
              "      <td>21.84</td>\n",
              "      <td>1999.9900</td>\n",
              "    </tr>\n",
              "    <tr>\n",
              "      <th>2016-03-07</th>\n",
              "      <td>17.35</td>\n",
              "      <td>18.60</td>\n",
              "      <td>19.80</td>\n",
              "      <td>19.90</td>\n",
              "      <td>21.90</td>\n",
              "      <td>2001.7600</td>\n",
              "    </tr>\n",
              "    <tr>\n",
              "      <th>...</th>\n",
              "      <td>...</td>\n",
              "      <td>...</td>\n",
              "      <td>...</td>\n",
              "      <td>...</td>\n",
              "      <td>...</td>\n",
              "      <td>...</td>\n",
              "    </tr>\n",
              "    <tr>\n",
              "      <th>2022-04-04</th>\n",
              "      <td>18.57</td>\n",
              "      <td>21.00</td>\n",
              "      <td>23.21</td>\n",
              "      <td>23.03</td>\n",
              "      <td>24.43</td>\n",
              "      <td>4582.6401</td>\n",
              "    </tr>\n",
              "    <tr>\n",
              "      <th>2022-04-05</th>\n",
              "      <td>21.03</td>\n",
              "      <td>22.85</td>\n",
              "      <td>24.55</td>\n",
              "      <td>24.90</td>\n",
              "      <td>24.81</td>\n",
              "      <td>4525.1201</td>\n",
              "    </tr>\n",
              "    <tr>\n",
              "      <th>2022-04-06</th>\n",
              "      <td>22.10</td>\n",
              "      <td>23.95</td>\n",
              "      <td>25.53</td>\n",
              "      <td>25.80</td>\n",
              "      <td>24.38</td>\n",
              "      <td>4481.1499</td>\n",
              "    </tr>\n",
              "    <tr>\n",
              "      <th>2022-04-07</th>\n",
              "      <td>21.55</td>\n",
              "      <td>22.72</td>\n",
              "      <td>24.62</td>\n",
              "      <td>25.23</td>\n",
              "      <td>24.05</td>\n",
              "      <td>4500.2100</td>\n",
              "    </tr>\n",
              "    <tr>\n",
              "      <th>2022-04-08</th>\n",
              "      <td>21.16</td>\n",
              "      <td>22.60</td>\n",
              "      <td>24.60</td>\n",
              "      <td>25.17</td>\n",
              "      <td>24.67</td>\n",
              "      <td>4488.2798</td>\n",
              "    </tr>\n",
              "  </tbody>\n",
              "</table>\n",
              "<p>1540 rows × 6 columns</p>\n",
              "</div>\n",
              "      <button class=\"colab-df-convert\" onclick=\"convertToInteractive('df-b5b3ded6-ffc5-4dc9-b868-b2c1e0a93463')\"\n",
              "              title=\"Convert this dataframe to an interactive table.\"\n",
              "              style=\"display:none;\">\n",
              "        \n",
              "  <svg xmlns=\"http://www.w3.org/2000/svg\" height=\"24px\"viewBox=\"0 0 24 24\"\n",
              "       width=\"24px\">\n",
              "    <path d=\"M0 0h24v24H0V0z\" fill=\"none\"/>\n",
              "    <path d=\"M18.56 5.44l.94 2.06.94-2.06 2.06-.94-2.06-.94-.94-2.06-.94 2.06-2.06.94zm-11 1L8.5 8.5l.94-2.06 2.06-.94-2.06-.94L8.5 2.5l-.94 2.06-2.06.94zm10 10l.94 2.06.94-2.06 2.06-.94-2.06-.94-.94-2.06-.94 2.06-2.06.94z\"/><path d=\"M17.41 7.96l-1.37-1.37c-.4-.4-.92-.59-1.43-.59-.52 0-1.04.2-1.43.59L10.3 9.45l-7.72 7.72c-.78.78-.78 2.05 0 2.83L4 21.41c.39.39.9.59 1.41.59.51 0 1.02-.2 1.41-.59l7.78-7.78 2.81-2.81c.8-.78.8-2.07 0-2.86zM5.41 20L4 18.59l7.72-7.72 1.47 1.35L5.41 20z\"/>\n",
              "  </svg>\n",
              "      </button>\n",
              "      \n",
              "  <style>\n",
              "    .colab-df-container {\n",
              "      display:flex;\n",
              "      flex-wrap:wrap;\n",
              "      gap: 12px;\n",
              "    }\n",
              "\n",
              "    .colab-df-convert {\n",
              "      background-color: #E8F0FE;\n",
              "      border: none;\n",
              "      border-radius: 50%;\n",
              "      cursor: pointer;\n",
              "      display: none;\n",
              "      fill: #1967D2;\n",
              "      height: 32px;\n",
              "      padding: 0 0 0 0;\n",
              "      width: 32px;\n",
              "    }\n",
              "\n",
              "    .colab-df-convert:hover {\n",
              "      background-color: #E2EBFA;\n",
              "      box-shadow: 0px 1px 2px rgba(60, 64, 67, 0.3), 0px 1px 3px 1px rgba(60, 64, 67, 0.15);\n",
              "      fill: #174EA6;\n",
              "    }\n",
              "\n",
              "    [theme=dark] .colab-df-convert {\n",
              "      background-color: #3B4455;\n",
              "      fill: #D2E3FC;\n",
              "    }\n",
              "\n",
              "    [theme=dark] .colab-df-convert:hover {\n",
              "      background-color: #434B5C;\n",
              "      box-shadow: 0px 1px 3px 1px rgba(0, 0, 0, 0.15);\n",
              "      filter: drop-shadow(0px 1px 2px rgba(0, 0, 0, 0.3));\n",
              "      fill: #FFFFFF;\n",
              "    }\n",
              "  </style>\n",
              "\n",
              "      <script>\n",
              "        const buttonEl =\n",
              "          document.querySelector('#df-b5b3ded6-ffc5-4dc9-b868-b2c1e0a93463 button.colab-df-convert');\n",
              "        buttonEl.style.display =\n",
              "          google.colab.kernel.accessAllowed ? 'block' : 'none';\n",
              "\n",
              "        async function convertToInteractive(key) {\n",
              "          const element = document.querySelector('#df-b5b3ded6-ffc5-4dc9-b868-b2c1e0a93463');\n",
              "          const dataTable =\n",
              "            await google.colab.kernel.invokeFunction('convertToInteractive',\n",
              "                                                     [key], {});\n",
              "          if (!dataTable) return;\n",
              "\n",
              "          const docLinkHtml = 'Like what you see? Visit the ' +\n",
              "            '<a target=\"_blank\" href=https://colab.research.google.com/notebooks/data_table.ipynb>data table notebook</a>'\n",
              "            + ' to learn more about interactive tables.';\n",
              "          element.innerHTML = '';\n",
              "          dataTable['output_type'] = 'display_data';\n",
              "          await google.colab.output.renderOutput(dataTable, element);\n",
              "          const docLink = document.createElement('div');\n",
              "          docLink.innerHTML = docLinkHtml;\n",
              "          element.appendChild(docLink);\n",
              "        }\n",
              "      </script>\n",
              "    </div>\n",
              "  </div>\n",
              "  "
            ]
          },
          "metadata": {},
          "execution_count": 34
        }
      ],
      "source": [
        "vix_df"
      ]
    },
    {
      "cell_type": "code",
      "execution_count": null,
      "id": "c0eb3d0f",
      "metadata": {
        "id": "c0eb3d0f"
      },
      "outputs": [],
      "source": [
        "vix_df['after_1m'] = vix_df['SPX'].shift(-21)\n",
        "vix_df['after_1w'] = vix_df['SPX'].shift(-5)"
      ]
    },
    {
      "cell_type": "code",
      "execution_count": null,
      "id": "b3f076e1",
      "metadata": {
        "id": "b3f076e1"
      },
      "outputs": [],
      "source": [
        "vix_df['rolling 1m return'] = (vix_df['after_1m']-vix_df['SPX'])/vix_df['SPX'] \n",
        "vix_df['rolling 1w return'] = (vix_df['after_1w']-vix_df['SPX'])/vix_df['SPX'] "
      ]
    },
    {
      "cell_type": "code",
      "source": [
        "vix_df['rolling 1m return'].describe(),vix_df['rolling 1w return'].describe()"
      ],
      "metadata": {
        "colab": {
          "base_uri": "https://localhost:8080/"
        },
        "id": "2tOnNL-ZqaUj",
        "outputId": "d17f0282-bd5c-4404-cddb-60b54e1b1dc2"
      },
      "id": "2tOnNL-ZqaUj",
      "execution_count": null,
      "outputs": [
        {
          "output_type": "execute_result",
          "data": {
            "text/plain": [
              "(count    1519.000000\n",
              " mean        0.012106\n",
              " std         0.045058\n",
              " min        -0.329668\n",
              " 25%        -0.004360\n",
              " 50%         0.017670\n",
              " 75%         0.034303\n",
              " max         0.251144\n",
              " Name: rolling 1m return, dtype: float64, count    1535.000000\n",
              " mean        0.002935\n",
              " std         0.022867\n",
              " min        -0.179666\n",
              " 25%        -0.005569\n",
              " 50%         0.004536\n",
              " 75%         0.014059\n",
              " max         0.173974\n",
              " Name: rolling 1w return, dtype: float64)"
            ]
          },
          "metadata": {},
          "execution_count": 37
        }
      ]
    },
    {
      "cell_type": "code",
      "execution_count": null,
      "id": "3378b271",
      "metadata": {
        "colab": {
          "base_uri": "https://localhost:8080/",
          "height": 265
        },
        "id": "3378b271",
        "outputId": "d50fe500-c650-49ae-ea78-b1393b9ac831"
      },
      "outputs": [
        {
          "output_type": "display_data",
          "data": {
            "text/plain": [
              "<Figure size 432x288 with 1 Axes>"
            ],
            "image/png": "[encoded data removed]"
          },
          "metadata": {
            "needs_background": "light"
          }
        }
      ],
      "source": [
        "plt.hist(vix_df['rolling 1m return'], bins='auto')  # arguments are passed to np.histogram\n",
        "plt.show()"
      ]
    },
    {
      "cell_type": "code",
      "source": [
        "skew(vix_df['rolling 1m return'].dropna(), axis=0, bias=True),kurtosis(vix_df['rolling 1m return'].dropna(), axis=0, bias=True),skew(vix_df['rolling 1w return'].dropna(), axis=0, bias=True),kurtosis(vix_df['rolling 1w return'].dropna(), axis=0, bias=True)"
      ],
      "metadata": {
        "colab": {
          "base_uri": "https://localhost:8080/"
        },
        "id": "eAhwf1ckCF2A",
        "outputId": "f626326d-5ae1-40da-cf01-42f658b9e20e"
      },
      "id": "eAhwf1ckCF2A",
      "execution_count": null,
      "outputs": [
        {
          "output_type": "execute_result",
          "data": {
            "text/plain": [
              "(-1.859928220326088,\n",
              " 12.279282722779598,\n",
              " -0.9843621181296841,\n",
              " 10.949594436085409)"
            ]
          },
          "metadata": {},
          "execution_count": 47
        }
      ]
    },
    {
      "cell_type": "code",
      "source": [
        "plt.hist(vix_df['rolling 1w return'], bins='auto')  # arguments are passed to np.histogram\n",
        "plt.show()"
      ],
      "metadata": {
        "colab": {
          "base_uri": "https://localhost:8080/",
          "height": 265
        },
        "id": "vpYc0D6Uag98",
        "outputId": "276efd51-bb54-4a8a-9b41-010b056d8a6a"
      },
      "id": "vpYc0D6Uag98",
      "execution_count": null,
      "outputs": [
        {
          "output_type": "display_data",
          "data": {
            "text/plain": [
              "<Figure size 432x288 with 1 Axes>"
            ],
            "image/png": "[encoded data removed]"
          },
          "metadata": {
            "needs_background": "light"
          }
        }
      ]
    },
    {
      "cell_type": "code",
      "source": [
        "perform_adf_test(vix_df['rolling 1w return'].dropna()),perform_adf_test(vix_df['rolling 1m return'].dropna())"
      ],
      "metadata": {
        "colab": {
          "base_uri": "https://localhost:8080/"
        },
        "id": "6WpfbduSa0Ef",
        "outputId": "e3cd1491-d42b-43d3-a747-9dd9993cc0f2"
      },
      "id": "6WpfbduSa0Ef",
      "execution_count": null,
      "outputs": [
        {
          "output_type": "stream",
          "name": "stdout",
          "text": [
            "ADF stats: -8.786121\n",
            "p-value: 0.000000\n",
            "ADF stats: -5.550460\n",
            "p-value: 0.000002\n"
          ]
        },
        {
          "output_type": "execute_result",
          "data": {
            "text/plain": [
              "(None, None)"
            ]
          },
          "metadata": {},
          "execution_count": 48
        }
      ]
    },
    {
      "cell_type": "code",
      "execution_count": null,
      "id": "c25d1c07",
      "metadata": {
        "id": "c25d1c07"
      },
      "outputs": [],
      "source": [
        "vix_df[\"c0\"]=vix_df[\"M1\"]/vix_df[\"VIX\"]-1\n",
        "vix_df[\"c1\"]=vix_df[\"M2\"]/vix_df[\"M1\"]-1\n",
        "vix_df[\"c2\"]=vix_df[\"VIX3M\"]/vix_df[\"M2\"]-1\n",
        "vix_df[\"SP500 return\"]=np.log(vix_df['SPX'])-np.log(vix_df['SPX']).shift(1)"
      ]
    },
    {
      "cell_type": "code",
      "execution_count": null,
      "id": "db73ab07",
      "metadata": {
        "id": "db73ab07"
      },
      "outputs": [],
      "source": [
        "rho = vix_df.corr()\n",
        "pval = vix_df.corr(method=lambda x, y: pearsonr(x, y)[1]) - np.eye(*rho.shape)\n",
        "p = pval.applymap(lambda x: ''.join(['*' for t in [0.01,0.05,0.1] if x<=t]))\n",
        "rho.round(3).astype(str) + p"
      ]
    },
    {
      "cell_type": "code",
      "execution_count": null,
      "id": "28126db9",
      "metadata": {
        "id": "28126db9"
      },
      "outputs": [],
      "source": [
        "before_2020=vix_df[:'2020-1-1']\n",
        "after_2020=vix_df['2020-1-1':]"
      ]
    },
    {
      "cell_type": "code",
      "source": [
        "before_2020.shape,after_2020.shape"
      ],
      "metadata": {
        "colab": {
          "base_uri": "https://localhost:8080/"
        },
        "id": "5JMBW_AofVX4",
        "outputId": "f42e74ca-098f-43d0-e270-bc04bf811d29"
      },
      "id": "5JMBW_AofVX4",
      "execution_count": null,
      "outputs": [
        {
          "output_type": "execute_result",
          "data": {
            "text/plain": [
              "((967, 14), (573, 14))"
            ]
          },
          "metadata": {},
          "execution_count": 53
        }
      ]
    },
    {
      "cell_type": "code",
      "execution_count": null,
      "id": "9061486b",
      "metadata": {
        "id": "9061486b"
      },
      "outputs": [],
      "source": [
        "rho = before_2020.corr()\n",
        "pval = before_2020.corr(method=lambda x, y: pearsonr(x, y)[1]) - np.eye(*rho.shape)\n",
        "p = pval.applymap(lambda x: ''.join(['*' for t in [0.01,0.05,0.1] if x<=t]))\n",
        "rho.round(3).astype(str) + p"
      ]
    },
    {
      "cell_type": "code",
      "execution_count": null,
      "id": "49ef4730",
      "metadata": {
        "scrolled": true,
        "id": "49ef4730"
      },
      "outputs": [],
      "source": [
        "rho = after_2020.corr()\n",
        "pval = after_2020.corr(method=lambda x, y: pearsonr(x, y)[1]) - np.eye(*rho.shape)\n",
        "p = pval.applymap(lambda x: ''.join(['*' for t in [0.01,0.05,0.1] if x<=t]))\n",
        "rho.round(3).astype(str) + p"
      ]
    },
    {
      "cell_type": "code",
      "execution_count": null,
      "id": "a01c14f2",
      "metadata": {
        "id": "a01c14f2"
      },
      "outputs": [],
      "source": [
        "#label buy and sell signals\n",
        "#1 buy, 0 hold, -1 sell, threshold +-1%\n",
        "signal = []\n",
        "for row in vix_df['rolling 1m return']:\n",
        "    if row < -0.03 :    signal.append(-1)  \n",
        "    elif row< 0.03: signal.append(0)\n",
        "    else:           signal.append(1)\n",
        "\n",
        "vix_df[\"signal\"]=signal"
      ]
    },
    {
      "cell_type": "code",
      "source": [
        "#label buy and sell signals\n",
        "#1 buy, 0 hold, -1 sell, threshold +-1%\n",
        "signal_weekly = []\n",
        "for row in vix_df['rolling 1w return']:\n",
        "    if row < -0.03 :    signal_weekly.append(-1)  \n",
        "    elif row< 0.03: signal_weekly.append(0)\n",
        "    else:           signal_weekly.append(1)\n",
        "\n",
        "vix_df[\"signal_weekly\"]=signal_weekly"
      ],
      "metadata": {
        "id": "B059mjzPSaTr"
      },
      "id": "B059mjzPSaTr",
      "execution_count": null,
      "outputs": []
    },
    {
      "cell_type": "code",
      "source": [
        "vix_df['rolling 1w return'].isna().sum(),vix_df['rolling 1m return'].isna().sum()"
      ],
      "metadata": {
        "colab": {
          "base_uri": "https://localhost:8080/"
        },
        "id": "VB7BusjyTrOT",
        "outputId": "ab675e4c-1d1c-48ca-b513-8fbd59ccfded"
      },
      "id": "VB7BusjyTrOT",
      "execution_count": null,
      "outputs": [
        {
          "output_type": "execute_result",
          "data": {
            "text/plain": [
              "(5, 21)"
            ]
          },
          "metadata": {},
          "execution_count": 73
        }
      ]
    },
    {
      "cell_type": "code",
      "execution_count": null,
      "id": "88c63848",
      "metadata": {
        "colab": {
          "base_uri": "https://localhost:8080/",
          "height": 265
        },
        "id": "88c63848",
        "outputId": "f3ef9c3f-7e0f-4858-f024-f002d8eea94d"
      },
      "outputs": [
        {
          "output_type": "display_data",
          "data": {
            "text/plain": [
              "<Figure size 432x288 with 1 Axes>"
            ],
            "image/png": "[encoded data removed]"
          },
          "metadata": {
            "needs_background": "light"
          }
        }
      ],
      "source": [
        "#plot rolling returns distribution\n",
        "plt.hist(vix_df['signal'], bins='auto')  # arguments are passed to np.histogram\n",
        "plt.show()"
      ]
    },
    {
      "cell_type": "code",
      "source": [
        "#plot rolling returns distribution\n",
        "plt.hist(vix_df['signal_weekly'], bins='auto')  # arguments are passed to np.histogram\n",
        "plt.show()"
      ],
      "metadata": {
        "colab": {
          "base_uri": "https://localhost:8080/",
          "height": 266
        },
        "id": "pJtWKtu_SowM",
        "outputId": "82b769dc-693c-4c26-c7aa-cd12e7aa820d"
      },
      "id": "pJtWKtu_SowM",
      "execution_count": null,
      "outputs": [
        {
          "output_type": "display_data",
          "data": {
            "text/plain": [
              "<Figure size 432x288 with 1 Axes>"
            ],
            "image/png": "[encoded data removed]"
          },
          "metadata": {
            "needs_background": "light"
          }
        }
      ]
    },
    {
      "cell_type": "code",
      "execution_count": null,
      "id": "0ab579b2",
      "metadata": {
        "id": "0ab579b2"
      },
      "outputs": [],
      "source": [
        "#contangos\n",
        "contangos_c0= vix_df.loc[vix_df['c0'] >0]\n",
        "contangos_c1= vix_df.loc[vix_df['c1'] >0]\n",
        "contangos_c2= vix_df.loc[vix_df['c2'] >0]\n",
        "#backwardation\n",
        "back_c0= vix_df.loc[vix_df['c0'] <=0]\n",
        "back_c1= vix_df.loc[vix_df['c1'] <=0]\n",
        "back_c2= vix_df.loc[vix_df['c2'] <=0]"
      ]
    },
    {
      "cell_type": "code",
      "source": [
        "contangos_c0.shape,contangos_c1.shape,contangos_c2.shape,back_c0.shape,back_c1.shape,back_c2.shape"
      ],
      "metadata": {
        "colab": {
          "base_uri": "https://localhost:8080/"
        },
        "id": "F1EfhvKLbV7u",
        "outputId": "1033e748-e34c-4ea5-bd9e-b07df7777c4b"
      },
      "id": "F1EfhvKLbV7u",
      "execution_count": null,
      "outputs": [
        {
          "output_type": "execute_result",
          "data": {
            "text/plain": [
              "((1230, 15), (1303, 15), (936, 15), (310, 15), (237, 15), (604, 15))"
            ]
          },
          "metadata": {},
          "execution_count": 58
        }
      ]
    },
    {
      "cell_type": "code",
      "source": [
        "rho = contangos_c0.corr()\n",
        "pval = contangos_c0.corr(method=lambda x, y: pearsonr(x, y)[1]) - np.eye(*rho.shape)\n",
        "p = pval.applymap(lambda x: ''.join(['*' for t in [0.01,0.05,0.1] if x<=t]))\n",
        "rho.round(3).astype(str) + p"
      ],
      "metadata": {
        "id": "4cTDgv5DbSs7"
      },
      "id": "4cTDgv5DbSs7",
      "execution_count": null,
      "outputs": []
    },
    {
      "cell_type": "code",
      "source": [
        "rho = contangos_c1.corr()\n",
        "pval = contangos_c1.corr(method=lambda x, y: pearsonr(x, y)[1]) - np.eye(*rho.shape)\n",
        "p = pval.applymap(lambda x: ''.join(['*' for t in [0.01,0.05,0.1] if x<=t]))\n",
        "rho.round(3).astype(str) + p"
      ],
      "metadata": {
        "id": "AoYLYb7ubs7i"
      },
      "id": "AoYLYb7ubs7i",
      "execution_count": null,
      "outputs": []
    },
    {
      "cell_type": "code",
      "source": [
        "rho = contangos_c1.corr()\n",
        "pval = contangos_c1.corr(method=lambda x, y: pearsonr(x, y)[1]) - np.eye(*rho.shape)\n",
        "p = pval.applymap(lambda x: ''.join(['*' for t in [0.01,0.05,0.1] if x<=t]))\n",
        "rho.round(3).astype(str) + p"
      ],
      "metadata": {
        "id": "G8ernzu4btKj"
      },
      "id": "G8ernzu4btKj",
      "execution_count": null,
      "outputs": []
    },
    {
      "cell_type": "code",
      "source": [
        "rho = back_c0.corr()\n",
        "pval = back_c0.corr(method=lambda x, y: pearsonr(x, y)[1]) - np.eye(*rho.shape)\n",
        "p = pval.applymap(lambda x: ''.join(['*' for t in [0.01,0.05,0.1] if x<=t]))\n",
        "rho.round(3).astype(str) + p"
      ],
      "metadata": {
        "id": "ndOGaw5LbtXN"
      },
      "id": "ndOGaw5LbtXN",
      "execution_count": null,
      "outputs": []
    },
    {
      "cell_type": "code",
      "source": [
        "rho = back_c1.corr()\n",
        "pval = back_c1.corr(method=lambda x, y: pearsonr(x, y)[1]) - np.eye(*rho.shape)\n",
        "p = pval.applymap(lambda x: ''.join(['*' for t in [0.01,0.05,0.1] if x<=t]))\n",
        "rho.round(3).astype(str) + p"
      ],
      "metadata": {
        "id": "nkYbIPkHbtyY"
      },
      "id": "nkYbIPkHbtyY",
      "execution_count": null,
      "outputs": []
    },
    {
      "cell_type": "code",
      "source": [
        "rho = back_c2.corr()\n",
        "pval = back_c2.corr(method=lambda x, y: pearsonr(x, y)[1]) - np.eye(*rho.shape)\n",
        "p = pval.applymap(lambda x: ''.join(['*' for t in [0.01,0.05,0.1] if x<=t]))\n",
        "rho.round(3).astype(str) + p"
      ],
      "metadata": {
        "id": "vGPjORyubuAC"
      },
      "id": "vGPjORyubuAC",
      "execution_count": null,
      "outputs": []
    },
    {
      "cell_type": "code",
      "source": [
        "#plot rolling returns distribution\n",
        "plt.hist(contangos_c0['signal'], bins='auto')  # arguments are passed to np.histogram\n",
        "plt.show()"
      ],
      "metadata": {
        "colab": {
          "base_uri": "https://localhost:8080/",
          "height": 269
        },
        "id": "5F9bMg7gRjXI",
        "outputId": "6b5f0ad8-8c51-4e9f-98b9-95d93a95c7f1"
      },
      "id": "5F9bMg7gRjXI",
      "execution_count": null,
      "outputs": [
        {
          "output_type": "display_data",
          "data": {
            "text/plain": [
              "<Figure size 432x288 with 1 Axes>"
            ],
            "image/png": "[encoded data removed]"
          },
          "metadata": {
            "needs_background": "light"
          }
        }
      ]
    },
    {
      "cell_type": "code",
      "source": [
        "#plot rolling returns distribution\n",
        "plt.hist(contangos_c1['signal'], bins='auto')  # arguments are passed to np.histogram\n",
        "plt.show()"
      ],
      "metadata": {
        "colab": {
          "base_uri": "https://localhost:8080/",
          "height": 265
        },
        "id": "scUOMOD0Rsgu",
        "outputId": "572da1d7-100e-47b8-d489-7bde1e0205cc"
      },
      "id": "scUOMOD0Rsgu",
      "execution_count": null,
      "outputs": [
        {
          "output_type": "display_data",
          "data": {
            "text/plain": [
              "<Figure size 432x288 with 1 Axes>"
            ],
            "image/png": "[encoded data removed]"
          },
          "metadata": {
            "needs_background": "light"
          }
        }
      ]
    },
    {
      "cell_type": "code",
      "source": [
        "#plot rolling returns distribution\n",
        "plt.hist(contangos_c2['signal'], bins='auto')  # arguments are passed to np.histogram\n",
        "plt.show()"
      ],
      "metadata": {
        "colab": {
          "base_uri": "https://localhost:8080/",
          "height": 265
        },
        "id": "rOGbK9ZqRtTw",
        "outputId": "b40ea5c2-7a5b-4f4d-b7b3-cd3924dc6505"
      },
      "id": "rOGbK9ZqRtTw",
      "execution_count": null,
      "outputs": [
        {
          "output_type": "display_data",
          "data": {
            "text/plain": [
              "<Figure size 432x288 with 1 Axes>"
            ],
            "image/png": "[encoded data removed]"
          },
          "metadata": {
            "needs_background": "light"
          }
        }
      ]
    },
    {
      "cell_type": "code",
      "source": [
        "#plot rolling returns distribution\n",
        "plt.hist(back_c0['signal'], bins='auto')  # arguments are passed to np.histogram\n",
        "plt.show()"
      ],
      "metadata": {
        "colab": {
          "base_uri": "https://localhost:8080/",
          "height": 265
        },
        "id": "_pzJM4ISR5IJ",
        "outputId": "49f75859-20bd-409a-f55a-2d6efdd476fb"
      },
      "id": "_pzJM4ISR5IJ",
      "execution_count": null,
      "outputs": [
        {
          "output_type": "display_data",
          "data": {
            "text/plain": [
              "<Figure size 432x288 with 1 Axes>"
            ],
            "image/png": "[encoded data removed]"
          },
          "metadata": {
            "needs_background": "light"
          }
        }
      ]
    },
    {
      "cell_type": "code",
      "source": [
        "#plot rolling returns distribution\n",
        "plt.hist(back_c1['signal'], bins='auto')  # arguments are passed to np.histogram\n",
        "plt.show()"
      ],
      "metadata": {
        "colab": {
          "base_uri": "https://localhost:8080/",
          "height": 265
        },
        "id": "eSZhIrZzRjkW",
        "outputId": "7c916c71-4a80-49ab-af1c-ffb462f355de"
      },
      "id": "eSZhIrZzRjkW",
      "execution_count": null,
      "outputs": [
        {
          "output_type": "display_data",
          "data": {
            "text/plain": [
              "<Figure size 432x288 with 1 Axes>"
            ],
            "image/png": "[encoded data removed]"
          },
          "metadata": {
            "needs_background": "light"
          }
        }
      ]
    },
    {
      "cell_type": "code",
      "source": [
        "#plot rolling returns distribution\n",
        "plt.hist(back_c2['signal'], bins='auto')  # arguments are passed to np.histogram\n",
        "plt.show()"
      ],
      "metadata": {
        "colab": {
          "base_uri": "https://localhost:8080/",
          "height": 265
        },
        "id": "BSBVCv3ASCVZ",
        "outputId": "cabfabed-d208-416f-a906-acc4e575defe"
      },
      "id": "BSBVCv3ASCVZ",
      "execution_count": null,
      "outputs": [
        {
          "output_type": "display_data",
          "data": {
            "text/plain": [
              "<Figure size 432x288 with 1 Axes>"
            ],
            "image/png": "[encoded data removed]"
          },
          "metadata": {
            "needs_background": "light"
          }
        }
      ]
    },
    {
      "cell_type": "code",
      "execution_count": null,
      "id": "f4f135c6",
      "metadata": {
        "id": "f4f135c6"
      },
      "outputs": [],
      "source": [
        "#stationary series\n",
        "perform_adf_test(vix_df.c0),perform_adf_test(vix_df.c1),perform_adf_test(vix_df.c2),perform_adf_test(vix_df['rolling 1m return'].dropna())"
      ]
    },
    {
      "cell_type": "code",
      "execution_count": null,
      "id": "d1d3bc5e",
      "metadata": {
        "id": "d1d3bc5e",
        "outputId": "45ed3e2a-e309-4da9-de9a-34bcde9b48dc",
        "colab": {
          "base_uri": "https://localhost:8080/",
          "height": 283
        }
      },
      "outputs": [
        {
          "output_type": "execute_result",
          "data": {
            "text/plain": [
              "[<matplotlib.lines.Line2D at 0x7f6c702b00d0>]"
            ]
          },
          "metadata": {},
          "execution_count": 153
        },
        {
          "output_type": "display_data",
          "data": {
            "text/plain": [
              "<Figure size 720x288 with 1 Axes>"
            ],
            "image/png": "[encoded data removed]"
          },
          "metadata": {}
        }
      ],
      "source": [
        "plt.figure(figsize=(10,4))\n",
        "plt.plot(vix_df['c0'])"
      ]
    },
    {
      "cell_type": "code",
      "execution_count": null,
      "id": "869301ee",
      "metadata": {
        "id": "869301ee",
        "outputId": "7004f6d1-4f59-4b4d-d310-c5a639ae5e68",
        "colab": {
          "base_uri": "https://localhost:8080/",
          "height": 284
        }
      },
      "outputs": [
        {
          "output_type": "execute_result",
          "data": {
            "text/plain": [
              "[<matplotlib.lines.Line2D at 0x7f6c70168790>]"
            ]
          },
          "metadata": {},
          "execution_count": 155
        },
        {
          "output_type": "display_data",
          "data": {
            "text/plain": [
              "<Figure size 720x288 with 1 Axes>"
            ],
            "image/png": "[encoded data removed]"
          },
          "metadata": {}
        }
      ],
      "source": [
        "plt.figure(figsize=(10,4))\n",
        "plt.plot(vix_df['c1'])"
      ]
    },
    {
      "cell_type": "code",
      "execution_count": null,
      "id": "0dd39608",
      "metadata": {
        "id": "0dd39608",
        "outputId": "1da9627b-8e04-4bf2-c01e-dc4d69c077bd",
        "colab": {
          "base_uri": "https://localhost:8080/",
          "height": 283
        }
      },
      "outputs": [
        {
          "output_type": "execute_result",
          "data": {
            "text/plain": [
              "[<matplotlib.lines.Line2D at 0x7f6c7009df50>]"
            ]
          },
          "metadata": {},
          "execution_count": 156
        },
        {
          "output_type": "display_data",
          "data": {
            "text/plain": [
              "<Figure size 720x288 with 1 Axes>"
            ],
            "image/png": "[encoded data removed]"
          },
          "metadata": {}
        }
      ],
      "source": [
        "plt.figure(figsize=(10,4))\n",
        "plt.plot(vix_df['c2'])"
      ]
    },
    {
      "cell_type": "code",
      "execution_count": null,
      "id": "1b0d3997",
      "metadata": {
        "id": "1b0d3997"
      },
      "outputs": [],
      "source": [
        "vix_df=vix_df.dropna()\n",
        "#LR1\n",
        "X = vix_df[['VIX','c0','c1','c2','SPX']]\n",
        "Y = vix_df['rolling 1m return']\n",
        "X = sm.add_constant(X)\n",
        "model = sm.OLS(Y, X).fit()\n",
        "summary = model.summary()\n",
        "print(summary)"
      ]
    },
    {
      "cell_type": "code",
      "source": [
        "perform_adf_test(vix_df['VIX']),perform_adf_test(vix_df['M1']),perform_adf_test(vix_df['M2'])"
      ],
      "metadata": {
        "colab": {
          "base_uri": "https://localhost:8080/"
        },
        "id": "ccrqnK02zrQF",
        "outputId": "2b302484-ff70-4ef5-973e-6244b3290e8b"
      },
      "id": "ccrqnK02zrQF",
      "execution_count": null,
      "outputs": [
        {
          "output_type": "stream",
          "name": "stdout",
          "text": [
            "ADF stats: -4.075563\n",
            "p-value: 0.001063\n",
            "ADF stats: -3.673579\n",
            "p-value: 0.004501\n",
            "ADF stats: -3.042524\n",
            "p-value: 0.031110\n"
          ]
        },
        {
          "output_type": "execute_result",
          "data": {
            "text/plain": [
              "(None, None, None)"
            ]
          },
          "metadata": {},
          "execution_count": 103
        }
      ]
    },
    {
      "cell_type": "code",
      "source": [
        "#first regression to determine the spread on spot vix next time period \n",
        "X = vix_df[['c0']][:-1]\n",
        "y = vix_df['VIX'].shift(-1).dropna()\n",
        "X = sm.add_constant(X)\n",
        "model = sm.OLS(y, X).fit()\n",
        "summary = model.summary()\n",
        "print(summary)"
      ],
      "metadata": {
        "colab": {
          "base_uri": "https://localhost:8080/"
        },
        "id": "nNHwRE-QXB8x",
        "outputId": "f9f91317-abe1-4710-baa1-e4e92600d3b1"
      },
      "id": "nNHwRE-QXB8x",
      "execution_count": null,
      "outputs": [
        {
          "output_type": "stream",
          "name": "stdout",
          "text": [
            "                            OLS Regression Results                            \n",
            "==============================================================================\n",
            "Dep. Variable:                    VIX   R-squared:                       0.322\n",
            "Model:                            OLS   Adj. R-squared:                  0.322\n",
            "Method:                 Least Squares   F-statistic:                     730.1\n",
            "Date:                Mon, 17 Oct 2022   Prob (F-statistic):          6.73e-132\n",
            "Time:                        10:11:30   Log-Likelihood:                -5140.8\n",
            "No. Observations:                1539   AIC:                         1.029e+04\n",
            "Df Residuals:                    1537   BIC:                         1.030e+04\n",
            "Df Model:                           1                                         \n",
            "Covariance Type:            nonrobust                                         \n",
            "==============================================================================\n",
            "                 coef    std err          t      P>|t|      [0.025      0.975]\n",
            "------------------------------------------------------------------------------\n",
            "const         21.4924      0.213    100.750      0.000      21.074      21.911\n",
            "c0           -56.7014      2.098    -27.021      0.000     -60.817     -52.585\n",
            "==============================================================================\n",
            "Omnibus:                      821.144   Durbin-Watson:                   0.278\n",
            "Prob(Omnibus):                  0.000   Jarque-Bera (JB):             8718.267\n",
            "Skew:                           2.269   Prob(JB):                         0.00\n",
            "Kurtosis:                      13.740   Cond. No.                         12.1\n",
            "==============================================================================\n",
            "\n",
            "Notes:\n",
            "[1] Standard Errors assume that the covariance matrix of the errors is correctly specified.\n"
          ]
        }
      ]
    },
    {
      "cell_type": "code",
      "source": [
        "X = vix_df[['c0']][:-1]\n",
        "y = (vix_df['VIX'].shift(-1)-vix_df['VIX']).dropna()\n",
        "X = sm.add_constant(X)\n",
        "model = sm.OLS(y, X).fit()\n",
        "summary = model.summary()\n",
        "print(summary)"
      ],
      "metadata": {
        "colab": {
          "base_uri": "https://localhost:8080/"
        },
        "id": "sHJWHVeUyeq3",
        "outputId": "7bece6aa-5daa-4337-a204-1b67f084e2e7"
      },
      "id": "sHJWHVeUyeq3",
      "execution_count": null,
      "outputs": [
        {
          "output_type": "stream",
          "name": "stdout",
          "text": [
            "                            OLS Regression Results                            \n",
            "==============================================================================\n",
            "Dep. Variable:                    VIX   R-squared:                       0.011\n",
            "Model:                            OLS   Adj. R-squared:                  0.010\n",
            "Method:                 Least Squares   F-statistic:                     16.49\n",
            "Date:                Mon, 17 Oct 2022   Prob (F-statistic):           5.13e-05\n",
            "Time:                        11:56:58   Log-Likelihood:                -3307.3\n",
            "No. Observations:                1539   AIC:                             6619.\n",
            "Df Residuals:                    1537   BIC:                             6629.\n",
            "Df Model:                           1                                         \n",
            "Covariance Type:            nonrobust                                         \n",
            "==============================================================================\n",
            "                 coef    std err          t      P>|t|      [0.025      0.975]\n",
            "------------------------------------------------------------------------------\n",
            "const         -0.1496      0.065     -2.309      0.021      -0.277      -0.023\n",
            "c0             2.5891      0.638      4.061      0.000       1.339       3.840\n",
            "==============================================================================\n",
            "Omnibus:                     1239.228   Durbin-Watson:                   2.400\n",
            "Prob(Omnibus):                  0.000   Jarque-Bera (JB):            86591.067\n",
            "Skew:                           3.223   Prob(JB):                         0.00\n",
            "Kurtosis:                      39.177   Cond. No.                         12.1\n",
            "==============================================================================\n",
            "\n",
            "Notes:\n",
            "[1] Standard Errors assume that the covariance matrix of the errors is correctly specified.\n"
          ]
        }
      ]
    },
    {
      "cell_type": "code",
      "source": [
        "#regression: to determine the spread on spot vix next time period \n",
        "spread= vix_df['M1']-vix_df['VIX']\n",
        "X = spread[:-1]\n",
        "y = (vix_df['VIX'].shift(-1)-vix_df['VIX']).dropna()\n",
        "X = sm.add_constant(X)\n",
        "\n",
        "model = sm.OLS(y, X).fit()\n",
        "summary = model.summary()\n",
        "print(summary)"
      ],
      "metadata": {
        "colab": {
          "base_uri": "https://localhost:8080/"
        },
        "id": "eCc5lOSKy49A",
        "outputId": "02e01003-e793-43a8-8957-f9732a3dd034"
      },
      "id": "eCc5lOSKy49A",
      "execution_count": null,
      "outputs": [
        {
          "output_type": "stream",
          "name": "stdout",
          "text": [
            "                            OLS Regression Results                            \n",
            "==============================================================================\n",
            "Dep. Variable:                    VIX   R-squared:                       0.017\n",
            "Model:                            OLS   Adj. R-squared:                  0.016\n",
            "Method:                 Least Squares   F-statistic:                     25.89\n",
            "Date:                Mon, 17 Oct 2022   Prob (F-statistic):           4.07e-07\n",
            "Time:                        11:56:43   Log-Likelihood:                -3302.7\n",
            "No. Observations:                1539   AIC:                             6609.\n",
            "Df Residuals:                    1537   BIC:                             6620.\n",
            "Df Model:                           1                                         \n",
            "Covariance Type:            nonrobust                                         \n",
            "==============================================================================\n",
            "                 coef    std err          t      P>|t|      [0.025      0.975]\n",
            "------------------------------------------------------------------------------\n",
            "const         -0.0895      0.056     -1.605      0.109      -0.199       0.020\n",
            "0              0.1397      0.027      5.088      0.000       0.086       0.194\n",
            "==============================================================================\n",
            "Omnibus:                     1313.357   Durbin-Watson:                   2.359\n",
            "Prob(Omnibus):                  0.000   Jarque-Bera (JB):            92726.391\n",
            "Skew:                           3.547   Prob(JB):                         0.00\n",
            "Kurtosis:                      40.359   Cond. No.                         2.21\n",
            "==============================================================================\n",
            "\n",
            "Notes:\n",
            "[1] Standard Errors assume that the covariance matrix of the errors is correctly specified.\n"
          ]
        }
      ]
    },
    {
      "cell_type": "code",
      "source": [
        "#regression: to determine the spread on spot vix next time period \n",
        "spread= vix_df['M1']-vix_df['VIX']\n",
        "X = spread[:-1]\n",
        "y = (vix_df['M1'].shift(-1)-vix_df['M1']).dropna()\n",
        "X = sm.add_constant(X)\n",
        "\n",
        "model = sm.OLS(y, X).fit()\n",
        "summary = model.summary()\n",
        "print(summary)"
      ],
      "metadata": {
        "colab": {
          "base_uri": "https://localhost:8080/"
        },
        "id": "Q5OHsg1OyyBL",
        "outputId": "e2298e63-702a-4f34-f0f7-de9224f8a30b"
      },
      "id": "Q5OHsg1OyyBL",
      "execution_count": null,
      "outputs": [
        {
          "output_type": "stream",
          "name": "stdout",
          "text": [
            "                            OLS Regression Results                            \n",
            "==============================================================================\n",
            "Dep. Variable:                     M1   R-squared:                       0.000\n",
            "Model:                            OLS   Adj. R-squared:                 -0.000\n",
            "Method:                 Least Squares   F-statistic:                    0.3776\n",
            "Date:                Mon, 17 Oct 2022   Prob (F-statistic):              0.539\n",
            "Time:                        11:56:31   Log-Likelihood:                -2844.1\n",
            "No. Observations:                1539   AIC:                             5692.\n",
            "Df Residuals:                    1537   BIC:                             5703.\n",
            "Df Model:                           1                                         \n",
            "Covariance Type:            nonrobust                                         \n",
            "==============================================================================\n",
            "                 coef    std err          t      P>|t|      [0.025      0.975]\n",
            "------------------------------------------------------------------------------\n",
            "const          0.0103      0.041      0.249      0.803      -0.071       0.092\n",
            "0             -0.0125      0.020     -0.615      0.539      -0.053       0.027\n",
            "==============================================================================\n",
            "Omnibus:                     1153.942   Durbin-Watson:                   2.256\n",
            "Prob(Omnibus):                  0.000   Jarque-Bera (JB):            88830.443\n",
            "Skew:                           2.832   Prob(JB):                         0.00\n",
            "Kurtosis:                      39.786   Cond. No.                         2.21\n",
            "==============================================================================\n",
            "\n",
            "Notes:\n",
            "[1] Standard Errors assume that the covariance matrix of the errors is correctly specified.\n"
          ]
        }
      ]
    },
    {
      "cell_type": "code",
      "source": [
        "#regression: to determine the spread on spot vix next time period \n",
        "spread= vix_df['M1']-vix_df['VIX']\n",
        "X = spread[:-1]\n",
        "y = vix_df['VIX'].shift(-1).dropna()\n",
        "X = sm.add_constant(X)\n",
        "\n",
        "model = sm.OLS(y, X).fit()\n",
        "summary = model.summary()\n",
        "print(summary)"
      ],
      "metadata": {
        "colab": {
          "base_uri": "https://localhost:8080/"
        },
        "id": "Fv4PiUb1X_AE",
        "outputId": "a6d6a613-2f71-4bdb-de41-97602006e2c8"
      },
      "id": "Fv4PiUb1X_AE",
      "execution_count": null,
      "outputs": [
        {
          "output_type": "stream",
          "name": "stdout",
          "text": [
            "                            OLS Regression Results                            \n",
            "==============================================================================\n",
            "Dep. Variable:                    VIX   R-squared:                       0.370\n",
            "Model:                            OLS   Adj. R-squared:                  0.369\n",
            "Method:                 Least Squares   F-statistic:                     900.8\n",
            "Date:                Mon, 17 Oct 2022   Prob (F-statistic):          3.77e-156\n",
            "Time:                        10:08:56   Log-Likelihood:                -5084.9\n",
            "No. Observations:                1539   AIC:                         1.017e+04\n",
            "Df Residuals:                    1537   BIC:                         1.018e+04\n",
            "Df Model:                           1                                         \n",
            "Covariance Type:            nonrobust                                         \n",
            "==============================================================================\n",
            "                 coef    std err          t      P>|t|      [0.025      0.975]\n",
            "------------------------------------------------------------------------------\n",
            "const         19.8898      0.178    112.018      0.000      19.542      20.238\n",
            "0             -2.6243      0.087    -30.013      0.000      -2.796      -2.453\n",
            "==============================================================================\n",
            "Omnibus:                      520.170   Durbin-Watson:                   0.331\n",
            "Prob(Omnibus):                  0.000   Jarque-Bera (JB):             2142.228\n",
            "Skew:                           1.584   Prob(JB):                         0.00\n",
            "Kurtosis:                       7.834   Cond. No.                         2.21\n",
            "==============================================================================\n",
            "\n",
            "Notes:\n",
            "[1] Standard Errors assume that the covariance matrix of the errors is correctly specified.\n"
          ]
        }
      ]
    },
    {
      "cell_type": "code",
      "source": [
        "#regression 2 to determine the spread on future vix next time period \n",
        "spread= vix_df['M1']-vix_df['VIX']\n",
        "X = spread[:-1]\n",
        "y = vix_df['M1'].shift(-1).dropna()\n",
        "X = sm.add_constant(X)\n",
        "model = sm.OLS(y, X).fit()\n",
        "summary = model.summary()\n",
        "print(summary)"
      ],
      "metadata": {
        "colab": {
          "base_uri": "https://localhost:8080/"
        },
        "id": "z5-2f7kBUbTe",
        "outputId": "15d9a044-1de7-439d-d08c-53761c1bfee6"
      },
      "id": "z5-2f7kBUbTe",
      "execution_count": null,
      "outputs": [
        {
          "output_type": "stream",
          "name": "stdout",
          "text": [
            "                            OLS Regression Results                            \n",
            "==============================================================================\n",
            "Dep. Variable:                     M1   R-squared:                       0.224\n",
            "Model:                            OLS   Adj. R-squared:                  0.223\n",
            "Method:                 Least Squares   F-statistic:                     442.8\n",
            "Date:                Mon, 17 Oct 2022   Prob (F-statistic):           1.36e-86\n",
            "Time:                        10:09:54   Log-Likelihood:                -5030.9\n",
            "No. Observations:                1539   AIC:                         1.007e+04\n",
            "Df Residuals:                    1537   BIC:                         1.008e+04\n",
            "Df Model:                           1                                         \n",
            "Covariance Type:            nonrobust                                         \n",
            "==============================================================================\n",
            "                 coef    std err          t      P>|t|      [0.025      0.975]\n",
            "------------------------------------------------------------------------------\n",
            "const         19.9897      0.171    116.601      0.000      19.653      20.326\n",
            "0             -1.7765      0.084    -21.043      0.000      -1.942      -1.611\n",
            "==============================================================================\n",
            "Omnibus:                      465.106   Durbin-Watson:                   0.160\n",
            "Prob(Omnibus):                  0.000   Jarque-Bera (JB):             1501.235\n",
            "Skew:                           1.497   Prob(JB):                         0.00\n",
            "Kurtosis:                       6.800   Cond. No.                         2.21\n",
            "==============================================================================\n",
            "\n",
            "Notes:\n",
            "[1] Standard Errors assume that the covariance matrix of the errors is correctly specified.\n"
          ]
        }
      ]
    },
    {
      "cell_type": "code",
      "source": [
        "acf_plot(vix_df['VIX'])"
      ],
      "metadata": {
        "colab": {
          "base_uri": "https://localhost:8080/",
          "height": 172
        },
        "id": "mGBJ1ai37vCH",
        "outputId": "4a683b50-ee7a-45a2-e6b6-8017a6b55a17"
      },
      "id": "mGBJ1ai37vCH",
      "execution_count": null,
      "outputs": [
        {
          "output_type": "error",
          "ename": "TypeError",
          "evalue": "ignored",
          "traceback": [
            "\u001b[0;31m---------------------------------------------------------------------------\u001b[0m",
            "\u001b[0;31mTypeError\u001b[0m                                 Traceback (most recent call last)",
            "\u001b[0;32m<ipython-input-158-34e7b71cf225>\u001b[0m in \u001b[0;36m<module>\u001b[0;34m\u001b[0m\n\u001b[0;32m----> 1\u001b[0;31m \u001b[0macf_plot\u001b[0m\u001b[0;34m(\u001b[0m\u001b[0mvix_df\u001b[0m\u001b[0;34m[\u001b[0m\u001b[0;34m'VIX'\u001b[0m\u001b[0;34m]\u001b[0m\u001b[0;34m)\u001b[0m\u001b[0;34m\u001b[0m\u001b[0;34m\u001b[0m\u001b[0m\n\u001b[0m",
            "\u001b[0;31mTypeError\u001b[0m: 'Figure' object is not callable"
          ]
        }
      ]
    },
    {
      "cell_type": "code",
      "execution_count": null,
      "id": "cee6fb63",
      "metadata": {
        "id": "cee6fb63"
      },
      "outputs": [],
      "source": [
        "X = vix_df[['VIX','c0','c1','c2']]\n",
        "y = vix_df['rolling 1m return']\n"
      ]
    },
    {
      "cell_type": "code",
      "execution_count": null,
      "id": "aeeb4b4b",
      "metadata": {
        "id": "aeeb4b4b"
      },
      "outputs": [],
      "source": [
        "from sklearn.model_selection import train_test_split\n",
        "X_train, X_test, y_train, y_test = train_test_split(X, y, random_state=1)"
      ]
    },
    {
      "cell_type": "code",
      "execution_count": null,
      "id": "8ab3260b",
      "metadata": {
        "id": "8ab3260b"
      },
      "outputs": [],
      "source": [
        "from sklearn.linear_model import LinearRegression\n",
        "linreg = LinearRegression()\n",
        "regr = linear_model.LinearRegression()\n",
        "\n",
        "# fit the model to the training data (learn the coefficients)\n",
        "regr.fit(X_train, y_train)"
      ]
    },
    {
      "cell_type": "code",
      "execution_count": null,
      "id": "c3198d61",
      "metadata": {
        "id": "c3198d61"
      },
      "outputs": [],
      "source": [
        "print(regr.intercept_)\n",
        "print(regr.coef_)\n"
      ]
    },
    {
      "cell_type": "code",
      "execution_count": null,
      "id": "96c0703e",
      "metadata": {
        "id": "96c0703e"
      },
      "outputs": [],
      "source": [
        "X_train.shape,X_test.shape"
      ]
    },
    {
      "cell_type": "code",
      "execution_count": null,
      "id": "8f6f8225",
      "metadata": {
        "id": "8f6f8225"
      },
      "outputs": [],
      "source": [
        "y_pred = regr.predict(X_test)"
      ]
    },
    {
      "cell_type": "code",
      "execution_count": null,
      "id": "e9194f22",
      "metadata": {
        "id": "e9194f22"
      },
      "outputs": [],
      "source": [
        "from sklearn import metrics\n",
        "#Mean Absolute Error (MAE) \n",
        "print(metrics.mean_absolute_error(y_test, y_pred))\n",
        "#Mean Squared Error (MSE)\n",
        "print(metrics.mean_squared_error(y_test, y_pred))\n",
        "#Root Mean Squared Error (RMSE)\n",
        "print(np.sqrt(metrics.mean_squared_error(y_test, y_pred)))"
      ]
    },
    {
      "cell_type": "code",
      "execution_count": null,
      "id": "b7147eb4",
      "metadata": {
        "scrolled": true,
        "id": "b7147eb4"
      },
      "outputs": [],
      "source": [
        "est = sm.OLS(y_train, X_train)\n",
        "est2 = est.fit()\n",
        "print(est2.summary())"
      ]
    },
    {
      "cell_type": "code",
      "execution_count": null,
      "id": "800be024",
      "metadata": {
        "id": "800be024"
      },
      "outputs": [],
      "source": [
        "#pip install --user pycaret-ts-alpha"
      ]
    },
    {
      "cell_type": "code",
      "execution_count": null,
      "id": "f5b4e13f",
      "metadata": {
        "id": "f5b4e13f"
      },
      "outputs": [],
      "source": [
        "#compare models\n",
        "from pycaret.classification import *\n",
        "#s = setup(data=y_train, X_train, target= signal)"
      ]
    },
    {
      "cell_type": "code",
      "source": [
        "train_data_0=vix_df.sample(frac=0.9,random_state=345)\n",
        "test_data_0 = vix_df.drop(train_data_0.index)\n",
        "train_data=train_data_0.drop(['rolling 1m return','after_1m','rolling 1w return','after_1w','signal_weekly','SP500 return','SPX'],axis=1)\n",
        "test_data=test_data_0.drop(['rolling 1m return','after_1m','rolling 1w return','after_1w','signal_weekly','SP500 return','SPX'],axis=1)\n",
        "train_data.reset_index(inplace=True,drop=True)\n",
        "test_data.reset_index(inplace=True,drop=True)\n"
      ],
      "metadata": {
        "id": "8gg30tC3Wd-H"
      },
      "id": "8gg30tC3Wd-H",
      "execution_count": null,
      "outputs": []
    },
    {
      "cell_type": "code",
      "execution_count": null,
      "id": "52de832c",
      "metadata": {
        "id": "52de832c"
      },
      "outputs": [],
      "source": [
        "from pycaret.classification import *"
      ]
    },
    {
      "cell_type": "code",
      "source": [
        "s=setup(data=train_data,target='signal',session_id=\t345)"
      ],
      "metadata": {
        "id": "1Lgb1ziGWdgd"
      },
      "id": "1Lgb1ziGWdgd",
      "execution_count": null,
      "outputs": []
    },
    {
      "cell_type": "code",
      "execution_count": null,
      "id": "ac5b2314",
      "metadata": {
        "colab": {
          "base_uri": "https://localhost:8080/",
          "height": 560,
          "referenced_widgets": [
            "cb654fdd5a304bd884c2eaa2e81a3bd6",
            "a41e88fdf0804610bb8a9511703ecdef",
            "dec058a5b00e4aa891fe439e0a3d221c"
          ]
        },
        "id": "ac5b2314",
        "outputId": "976ad8dc-2cf1-4cd7-9326-73d4ad126e22"
      },
      "outputs": [
        {
          "output_type": "display_data",
          "data": {
            "text/plain": [
              "                                    Model  Accuracy     AUC  Recall   Prec.  \\\n",
              "et                 Extra Trees Classifier    0.7784  0.8807  0.7019  0.7794   \n",
              "lightgbm  Light Gradient Boosting Machine    0.7629  0.8701  0.6950  0.7638   \n",
              "rf               Random Forest Classifier    0.7474  0.8622  0.6353  0.7459   \n",
              "knn                K Neighbors Classifier    0.7258  0.8385  0.6611  0.7287   \n",
              "dt               Decision Tree Classifier    0.7227  0.7506  0.6665  0.7267   \n",
              "gbc          Gradient Boosting Classifier    0.7113  0.8335  0.5870  0.7081   \n",
              "lr                    Logistic Regression    0.6216  0.7070  0.4160  0.5569   \n",
              "lda          Linear Discriminant Analysis    0.6216  0.7093  0.4296  0.5791   \n",
              "ridge                    Ridge Classifier    0.6155  0.0000  0.4102  0.5522   \n",
              "qda       Quadratic Discriminant Analysis    0.6124  0.7086  0.4115  0.6233   \n",
              "nb                            Naive Bayes    0.6103  0.6969  0.4547  0.6030   \n",
              "ada                  Ada Boost Classifier    0.6041  0.6690  0.4347  0.5665   \n",
              "dummy                    Dummy Classifier    0.5680  0.5000  0.3333  0.3227   \n",
              "svm                   SVM - Linear Kernel    0.5165  0.0000  0.4072  0.6202   \n",
              "\n",
              "              F1   Kappa     MCC  TT (Sec)  \n",
              "et        0.7736  0.5892  0.5938     0.295  \n",
              "lightgbm  0.7600  0.5657  0.5687     0.364  \n",
              "rf        0.7371  0.5225  0.5305     0.369  \n",
              "knn       0.7244  0.5039  0.5065     0.132  \n",
              "dt        0.7219  0.5040  0.5064     0.036  \n",
              "gbc       0.6986  0.4538  0.4619     0.748  \n",
              "lr        0.5649  0.2117  0.2448     0.777  \n",
              "lda       0.5784  0.2347  0.2568     0.031  \n",
              "ridge     0.5574  0.1968  0.2308     0.027  \n",
              "qda       0.5448  0.1802  0.2350     0.028  \n",
              "nb        0.5786  0.2281  0.2515     0.031  \n",
              "ada       0.5751  0.2274  0.2363     0.146  \n",
              "dummy     0.4116  0.0000  0.0000     0.026  \n",
              "svm       0.4672  0.1779  0.2191     0.073  "
            ],
            "text/html": [
              "\n",
              "  <div id=\"df-f268fcae-04c8-49bf-b1bb-86651927bf40\">\n",
              "    <div class=\"colab-df-container\">\n",
              "      <div>\n",
              "<style scoped>\n",
              "    .dataframe tbody tr th:only-of-type {\n",
              "        vertical-align: middle;\n",
              "    }\n",
              "\n",
              "    .dataframe tbody tr th {\n",
              "        vertical-align: top;\n",
              "    }\n",
              "\n",
              "    .dataframe thead th {\n",
              "        text-align: right;\n",
              "    }\n",
              "</style>\n",
              "<table border=\"1\" class=\"dataframe\">\n",
              "  <thead>\n",
              "    <tr style=\"text-align: right;\">\n",
              "      <th></th>\n",
              "      <th>Model</th>\n",
              "      <th>Accuracy</th>\n",
              "      <th>AUC</th>\n",
              "      <th>Recall</th>\n",
              "      <th>Prec.</th>\n",
              "      <th>F1</th>\n",
              "      <th>Kappa</th>\n",
              "      <th>MCC</th>\n",
              "      <th>TT (Sec)</th>\n",
              "    </tr>\n",
              "  </thead>\n",
              "  <tbody>\n",
              "    <tr>\n",
              "      <th>et</th>\n",
              "      <td>Extra Trees Classifier</td>\n",
              "      <td>0.7784</td>\n",
              "      <td>0.8807</td>\n",
              "      <td>0.7019</td>\n",
              "      <td>0.7794</td>\n",
              "      <td>0.7736</td>\n",
              "      <td>0.5892</td>\n",
              "      <td>0.5938</td>\n",
              "      <td>0.295</td>\n",
              "    </tr>\n",
              "    <tr>\n",
              "      <th>lightgbm</th>\n",
              "      <td>Light Gradient Boosting Machine</td>\n",
              "      <td>0.7629</td>\n",
              "      <td>0.8701</td>\n",
              "      <td>0.6950</td>\n",
              "      <td>0.7638</td>\n",
              "      <td>0.7600</td>\n",
              "      <td>0.5657</td>\n",
              "      <td>0.5687</td>\n",
              "      <td>0.364</td>\n",
              "    </tr>\n",
              "    <tr>\n",
              "      <th>rf</th>\n",
              "      <td>Random Forest Classifier</td>\n",
              "      <td>0.7474</td>\n",
              "      <td>0.8622</td>\n",
              "      <td>0.6353</td>\n",
              "      <td>0.7459</td>\n",
              "      <td>0.7371</td>\n",
              "      <td>0.5225</td>\n",
              "      <td>0.5305</td>\n",
              "      <td>0.369</td>\n",
              "    </tr>\n",
              "    <tr>\n",
              "      <th>knn</th>\n",
              "      <td>K Neighbors Classifier</td>\n",
              "      <td>0.7258</td>\n",
              "      <td>0.8385</td>\n",
              "      <td>0.6611</td>\n",
              "      <td>0.7287</td>\n",
              "      <td>0.7244</td>\n",
              "      <td>0.5039</td>\n",
              "      <td>0.5065</td>\n",
              "      <td>0.132</td>\n",
              "    </tr>\n",
              "    <tr>\n",
              "      <th>dt</th>\n",
              "      <td>Decision Tree Classifier</td>\n",
              "      <td>0.7227</td>\n",
              "      <td>0.7506</td>\n",
              "      <td>0.6665</td>\n",
              "      <td>0.7267</td>\n",
              "      <td>0.7219</td>\n",
              "      <td>0.5040</td>\n",
              "      <td>0.5064</td>\n",
              "      <td>0.036</td>\n",
              "    </tr>\n",
              "    <tr>\n",
              "      <th>gbc</th>\n",
              "      <td>Gradient Boosting Classifier</td>\n",
              "      <td>0.7113</td>\n",
              "      <td>0.8335</td>\n",
              "      <td>0.5870</td>\n",
              "      <td>0.7081</td>\n",
              "      <td>0.6986</td>\n",
              "      <td>0.4538</td>\n",
              "      <td>0.4619</td>\n",
              "      <td>0.748</td>\n",
              "    </tr>\n",
              "    <tr>\n",
              "      <th>lr</th>\n",
              "      <td>Logistic Regression</td>\n",
              "      <td>0.6216</td>\n",
              "      <td>0.7070</td>\n",
              "      <td>0.4160</td>\n",
              "      <td>0.5569</td>\n",
              "      <td>0.5649</td>\n",
              "      <td>0.2117</td>\n",
              "      <td>0.2448</td>\n",
              "      <td>0.777</td>\n",
              "    </tr>\n",
              "    <tr>\n",
              "      <th>lda</th>\n",
              "      <td>Linear Discriminant Analysis</td>\n",
              "      <td>0.6216</td>\n",
              "      <td>0.7093</td>\n",
              "      <td>0.4296</td>\n",
              "      <td>0.5791</td>\n",
              "      <td>0.5784</td>\n",
              "      <td>0.2347</td>\n",
              "      <td>0.2568</td>\n",
              "      <td>0.031</td>\n",
              "    </tr>\n",
              "    <tr>\n",
              "      <th>ridge</th>\n",
              "      <td>Ridge Classifier</td>\n",
              "      <td>0.6155</td>\n",
              "      <td>0.0000</td>\n",
              "      <td>0.4102</td>\n",
              "      <td>0.5522</td>\n",
              "      <td>0.5574</td>\n",
              "      <td>0.1968</td>\n",
              "      <td>0.2308</td>\n",
              "      <td>0.027</td>\n",
              "    </tr>\n",
              "    <tr>\n",
              "      <th>qda</th>\n",
              "      <td>Quadratic Discriminant Analysis</td>\n",
              "      <td>0.6124</td>\n",
              "      <td>0.7086</td>\n",
              "      <td>0.4115</td>\n",
              "      <td>0.6233</td>\n",
              "      <td>0.5448</td>\n",
              "      <td>0.1802</td>\n",
              "      <td>0.2350</td>\n",
              "      <td>0.028</td>\n",
              "    </tr>\n",
              "    <tr>\n",
              "      <th>nb</th>\n",
              "      <td>Naive Bayes</td>\n",
              "      <td>0.6103</td>\n",
              "      <td>0.6969</td>\n",
              "      <td>0.4547</td>\n",
              "      <td>0.6030</td>\n",
              "      <td>0.5786</td>\n",
              "      <td>0.2281</td>\n",
              "      <td>0.2515</td>\n",
              "      <td>0.031</td>\n",
              "    </tr>\n",
              "    <tr>\n",
              "      <th>ada</th>\n",
              "      <td>Ada Boost Classifier</td>\n",
              "      <td>0.6041</td>\n",
              "      <td>0.6690</td>\n",
              "      <td>0.4347</td>\n",
              "      <td>0.5665</td>\n",
              "      <td>0.5751</td>\n",
              "      <td>0.2274</td>\n",
              "      <td>0.2363</td>\n",
              "      <td>0.146</td>\n",
              "    </tr>\n",
              "    <tr>\n",
              "      <th>dummy</th>\n",
              "      <td>Dummy Classifier</td>\n",
              "      <td>0.5680</td>\n",
              "      <td>0.5000</td>\n",
              "      <td>0.3333</td>\n",
              "      <td>0.3227</td>\n",
              "      <td>0.4116</td>\n",
              "      <td>0.0000</td>\n",
              "      <td>0.0000</td>\n",
              "      <td>0.026</td>\n",
              "    </tr>\n",
              "    <tr>\n",
              "      <th>svm</th>\n",
              "      <td>SVM - Linear Kernel</td>\n",
              "      <td>0.5165</td>\n",
              "      <td>0.0000</td>\n",
              "      <td>0.4072</td>\n",
              "      <td>0.6202</td>\n",
              "      <td>0.4672</td>\n",
              "      <td>0.1779</td>\n",
              "      <td>0.2191</td>\n",
              "      <td>0.073</td>\n",
              "    </tr>\n",
              "  </tbody>\n",
              "</table>\n",
              "</div>\n",
              "      <button class=\"colab-df-convert\" onclick=\"convertToInteractive('df-f268fcae-04c8-49bf-b1bb-86651927bf40')\"\n",
              "              title=\"Convert this dataframe to an interactive table.\"\n",
              "              style=\"display:none;\">\n",
              "        \n",
              "  <svg xmlns=\"http://www.w3.org/2000/svg\" height=\"24px\"viewBox=\"0 0 24 24\"\n",
              "       width=\"24px\">\n",
              "    <path d=\"M0 0h24v24H0V0z\" fill=\"none\"/>\n",
              "    <path d=\"M18.56 5.44l.94 2.06.94-2.06 2.06-.94-2.06-.94-.94-2.06-.94 2.06-2.06.94zm-11 1L8.5 8.5l.94-2.06 2.06-.94-2.06-.94L8.5 2.5l-.94 2.06-2.06.94zm10 10l.94 2.06.94-2.06 2.06-.94-2.06-.94-.94-2.06-.94 2.06-2.06.94z\"/><path d=\"M17.41 7.96l-1.37-1.37c-.4-.4-.92-.59-1.43-.59-.52 0-1.04.2-1.43.59L10.3 9.45l-7.72 7.72c-.78.78-.78 2.05 0 2.83L4 21.41c.39.39.9.59 1.41.59.51 0 1.02-.2 1.41-.59l7.78-7.78 2.81-2.81c.8-.78.8-2.07 0-2.86zM5.41 20L4 18.59l7.72-7.72 1.47 1.35L5.41 20z\"/>\n",
              "  </svg>\n",
              "      </button>\n",
              "      \n",
              "  <style>\n",
              "    .colab-df-container {\n",
              "      display:flex;\n",
              "      flex-wrap:wrap;\n",
              "      gap: 12px;\n",
              "    }\n",
              "\n",
              "    .colab-df-convert {\n",
              "      background-color: #E8F0FE;\n",
              "      border: none;\n",
              "      border-radius: 50%;\n",
              "      cursor: pointer;\n",
              "      display: none;\n",
              "      fill: #1967D2;\n",
              "      height: 32px;\n",
              "      padding: 0 0 0 0;\n",
              "      width: 32px;\n",
              "    }\n",
              "\n",
              "    .colab-df-convert:hover {\n",
              "      background-color: #E2EBFA;\n",
              "      box-shadow: 0px 1px 2px rgba(60, 64, 67, 0.3), 0px 1px 3px 1px rgba(60, 64, 67, 0.15);\n",
              "      fill: #174EA6;\n",
              "    }\n",
              "\n",
              "    [theme=dark] .colab-df-convert {\n",
              "      background-color: #3B4455;\n",
              "      fill: #D2E3FC;\n",
              "    }\n",
              "\n",
              "    [theme=dark] .colab-df-convert:hover {\n",
              "      background-color: #434B5C;\n",
              "      box-shadow: 0px 1px 3px 1px rgba(0, 0, 0, 0.15);\n",
              "      filter: drop-shadow(0px 1px 2px rgba(0, 0, 0, 0.3));\n",
              "      fill: #FFFFFF;\n",
              "    }\n",
              "  </style>\n",
              "\n",
              "      <script>\n",
              "        const buttonEl =\n",
              "          document.querySelector('#df-f268fcae-04c8-49bf-b1bb-86651927bf40 button.colab-df-convert');\n",
              "        buttonEl.style.display =\n",
              "          google.colab.kernel.accessAllowed ? 'block' : 'none';\n",
              "\n",
              "        async function convertToInteractive(key) {\n",
              "          const element = document.querySelector('#df-f268fcae-04c8-49bf-b1bb-86651927bf40');\n",
              "          const dataTable =\n",
              "            await google.colab.kernel.invokeFunction('convertToInteractive',\n",
              "                                                     [key], {});\n",
              "          if (!dataTable) return;\n",
              "\n",
              "          const docLinkHtml = 'Like what you see? Visit the ' +\n",
              "            '<a target=\"_blank\" href=https://colab.research.google.com/notebooks/data_table.ipynb>data table notebook</a>'\n",
              "            + ' to learn more about interactive tables.';\n",
              "          element.innerHTML = '';\n",
              "          dataTable['output_type'] = 'display_data';\n",
              "          await google.colab.output.renderOutput(dataTable, element);\n",
              "          const docLink = document.createElement('div');\n",
              "          docLink.innerHTML = docLinkHtml;\n",
              "          element.appendChild(docLink);\n",
              "        }\n",
              "      </script>\n",
              "    </div>\n",
              "  </div>\n",
              "  "
            ]
          },
          "metadata": {}
        },
        {
          "output_type": "stream",
          "name": "stderr",
          "text": [
            "INFO:logs:master_model_container: 30\n",
            "INFO:logs:display_container: 5\n",
            "INFO:logs:ExtraTreesClassifier(n_jobs=-1, random_state=345)\n",
            "INFO:logs:compare_models() successfully completed......................................\n"
          ]
        }
      ],
      "source": [
        "#compare models\n",
        "model= compare_models()"
      ]
    },
    {
      "cell_type": "code",
      "source": [
        "#creaete Extra Trees Classifier\n",
        "et_model = create_model('et')"
      ],
      "metadata": {
        "colab": {
          "base_uri": "https://localhost:8080/",
          "height": 497,
          "referenced_widgets": [
            "f4d4049361e44c7ba5401f2eb7ad7479",
            "21d16890485a4137a844a018ea2b533d",
            "d7a3b2cb11bd4ef993b43f0814dd8eba"
          ]
        },
        "id": "ZY0OXcadYgFH",
        "outputId": "49d33751-6920-4a7a-f330-6858bf3b6b9b"
      },
      "id": "ZY0OXcadYgFH",
      "execution_count": null,
      "outputs": [
        {
          "output_type": "display_data",
          "data": {
            "text/plain": [
              "      Accuracy     AUC  Recall   Prec.      F1   Kappa     MCC\n",
              "0       0.7526  0.8766  0.7060  0.7512  0.7497  0.5473  0.5496\n",
              "1       0.7113  0.8205  0.5996  0.7010  0.7013  0.4622  0.4676\n",
              "2       0.7938  0.8851  0.7282  0.8012  0.7914  0.6122  0.6155\n",
              "3       0.8454  0.9002  0.7826  0.8471  0.8434  0.7199  0.7212\n",
              "4       0.7732  0.8885  0.6955  0.7704  0.7703  0.5835  0.5851\n",
              "5       0.7216  0.8270  0.6347  0.7288  0.7109  0.4650  0.4813\n",
              "6       0.7732  0.8917  0.6638  0.7678  0.7656  0.5761  0.5801\n",
              "7       0.7938  0.8851  0.7206  0.7936  0.7908  0.6281  0.6297\n",
              "8       0.7938  0.8960  0.7621  0.7953  0.7941  0.6311  0.6315\n",
              "9       0.8247  0.9362  0.7258  0.8377  0.8187  0.6664  0.6768\n",
              "Mean    0.7784  0.8807  0.7019  0.7794  0.7736  0.5892  0.5938\n",
              "SD      0.0397  0.0323  0.0531  0.0432  0.0421  0.0777  0.0756"
            ],
            "text/html": [
              "\n",
              "  <div id=\"df-b4b06587-a5cb-43b2-a8ba-6afff1823549\">\n",
              "    <div class=\"colab-df-container\">\n",
              "      <div>\n",
              "<style scoped>\n",
              "    .dataframe tbody tr th:only-of-type {\n",
              "        vertical-align: middle;\n",
              "    }\n",
              "\n",
              "    .dataframe tbody tr th {\n",
              "        vertical-align: top;\n",
              "    }\n",
              "\n",
              "    .dataframe thead th {\n",
              "        text-align: right;\n",
              "    }\n",
              "</style>\n",
              "<table border=\"1\" class=\"dataframe\">\n",
              "  <thead>\n",
              "    <tr style=\"text-align: right;\">\n",
              "      <th></th>\n",
              "      <th>Accuracy</th>\n",
              "      <th>AUC</th>\n",
              "      <th>Recall</th>\n",
              "      <th>Prec.</th>\n",
              "      <th>F1</th>\n",
              "      <th>Kappa</th>\n",
              "      <th>MCC</th>\n",
              "    </tr>\n",
              "  </thead>\n",
              "  <tbody>\n",
              "    <tr>\n",
              "      <th>0</th>\n",
              "      <td>0.7526</td>\n",
              "      <td>0.8766</td>\n",
              "      <td>0.7060</td>\n",
              "      <td>0.7512</td>\n",
              "      <td>0.7497</td>\n",
              "      <td>0.5473</td>\n",
              "      <td>0.5496</td>\n",
              "    </tr>\n",
              "    <tr>\n",
              "      <th>1</th>\n",
              "      <td>0.7113</td>\n",
              "      <td>0.8205</td>\n",
              "      <td>0.5996</td>\n",
              "      <td>0.7010</td>\n",
              "      <td>0.7013</td>\n",
              "      <td>0.4622</td>\n",
              "      <td>0.4676</td>\n",
              "    </tr>\n",
              "    <tr>\n",
              "      <th>2</th>\n",
              "      <td>0.7938</td>\n",
              "      <td>0.8851</td>\n",
              "      <td>0.7282</td>\n",
              "      <td>0.8012</td>\n",
              "      <td>0.7914</td>\n",
              "      <td>0.6122</td>\n",
              "      <td>0.6155</td>\n",
              "    </tr>\n",
              "    <tr>\n",
              "      <th>3</th>\n",
              "      <td>0.8454</td>\n",
              "      <td>0.9002</td>\n",
              "      <td>0.7826</td>\n",
              "      <td>0.8471</td>\n",
              "      <td>0.8434</td>\n",
              "      <td>0.7199</td>\n",
              "      <td>0.7212</td>\n",
              "    </tr>\n",
              "    <tr>\n",
              "      <th>4</th>\n",
              "      <td>0.7732</td>\n",
              "      <td>0.8885</td>\n",
              "      <td>0.6955</td>\n",
              "      <td>0.7704</td>\n",
              "      <td>0.7703</td>\n",
              "      <td>0.5835</td>\n",
              "      <td>0.5851</td>\n",
              "    </tr>\n",
              "    <tr>\n",
              "      <th>5</th>\n",
              "      <td>0.7216</td>\n",
              "      <td>0.8270</td>\n",
              "      <td>0.6347</td>\n",
              "      <td>0.7288</td>\n",
              "      <td>0.7109</td>\n",
              "      <td>0.4650</td>\n",
              "      <td>0.4813</td>\n",
              "    </tr>\n",
              "    <tr>\n",
              "      <th>6</th>\n",
              "      <td>0.7732</td>\n",
              "      <td>0.8917</td>\n",
              "      <td>0.6638</td>\n",
              "      <td>0.7678</td>\n",
              "      <td>0.7656</td>\n",
              "      <td>0.5761</td>\n",
              "      <td>0.5801</td>\n",
              "    </tr>\n",
              "    <tr>\n",
              "      <th>7</th>\n",
              "      <td>0.7938</td>\n",
              "      <td>0.8851</td>\n",
              "      <td>0.7206</td>\n",
              "      <td>0.7936</td>\n",
              "      <td>0.7908</td>\n",
              "      <td>0.6281</td>\n",
              "      <td>0.6297</td>\n",
              "    </tr>\n",
              "    <tr>\n",
              "      <th>8</th>\n",
              "      <td>0.7938</td>\n",
              "      <td>0.8960</td>\n",
              "      <td>0.7621</td>\n",
              "      <td>0.7953</td>\n",
              "      <td>0.7941</td>\n",
              "      <td>0.6311</td>\n",
              "      <td>0.6315</td>\n",
              "    </tr>\n",
              "    <tr>\n",
              "      <th>9</th>\n",
              "      <td>0.8247</td>\n",
              "      <td>0.9362</td>\n",
              "      <td>0.7258</td>\n",
              "      <td>0.8377</td>\n",
              "      <td>0.8187</td>\n",
              "      <td>0.6664</td>\n",
              "      <td>0.6768</td>\n",
              "    </tr>\n",
              "    <tr>\n",
              "      <th>Mean</th>\n",
              "      <td>0.7784</td>\n",
              "      <td>0.8807</td>\n",
              "      <td>0.7019</td>\n",
              "      <td>0.7794</td>\n",
              "      <td>0.7736</td>\n",
              "      <td>0.5892</td>\n",
              "      <td>0.5938</td>\n",
              "    </tr>\n",
              "    <tr>\n",
              "      <th>SD</th>\n",
              "      <td>0.0397</td>\n",
              "      <td>0.0323</td>\n",
              "      <td>0.0531</td>\n",
              "      <td>0.0432</td>\n",
              "      <td>0.0421</td>\n",
              "      <td>0.0777</td>\n",
              "      <td>0.0756</td>\n",
              "    </tr>\n",
              "  </tbody>\n",
              "</table>\n",
              "</div>\n",
              "      <button class=\"colab-df-convert\" onclick=\"convertToInteractive('df-b4b06587-a5cb-43b2-a8ba-6afff1823549')\"\n",
              "              title=\"Convert this dataframe to an interactive table.\"\n",
              "              style=\"display:none;\">\n",
              "        \n",
              "  <svg xmlns=\"http://www.w3.org/2000/svg\" height=\"24px\"viewBox=\"0 0 24 24\"\n",
              "       width=\"24px\">\n",
              "    <path d=\"M0 0h24v24H0V0z\" fill=\"none\"/>\n",
              "    <path d=\"M18.56 5.44l.94 2.06.94-2.06 2.06-.94-2.06-.94-.94-2.06-.94 2.06-2.06.94zm-11 1L8.5 8.5l.94-2.06 2.06-.94-2.06-.94L8.5 2.5l-.94 2.06-2.06.94zm10 10l.94 2.06.94-2.06 2.06-.94-2.06-.94-.94-2.06-.94 2.06-2.06.94z\"/><path d=\"M17.41 7.96l-1.37-1.37c-.4-.4-.92-.59-1.43-.59-.52 0-1.04.2-1.43.59L10.3 9.45l-7.72 7.72c-.78.78-.78 2.05 0 2.83L4 21.41c.39.39.9.59 1.41.59.51 0 1.02-.2 1.41-.59l7.78-7.78 2.81-2.81c.8-.78.8-2.07 0-2.86zM5.41 20L4 18.59l7.72-7.72 1.47 1.35L5.41 20z\"/>\n",
              "  </svg>\n",
              "      </button>\n",
              "      \n",
              "  <style>\n",
              "    .colab-df-container {\n",
              "      display:flex;\n",
              "      flex-wrap:wrap;\n",
              "      gap: 12px;\n",
              "    }\n",
              "\n",
              "    .colab-df-convert {\n",
              "      background-color: #E8F0FE;\n",
              "      border: none;\n",
              "      border-radius: 50%;\n",
              "      cursor: pointer;\n",
              "      display: none;\n",
              "      fill: #1967D2;\n",
              "      height: 32px;\n",
              "      padding: 0 0 0 0;\n",
              "      width: 32px;\n",
              "    }\n",
              "\n",
              "    .colab-df-convert:hover {\n",
              "      background-color: #E2EBFA;\n",
              "      box-shadow: 0px 1px 2px rgba(60, 64, 67, 0.3), 0px 1px 3px 1px rgba(60, 64, 67, 0.15);\n",
              "      fill: #174EA6;\n",
              "    }\n",
              "\n",
              "    [theme=dark] .colab-df-convert {\n",
              "      background-color: #3B4455;\n",
              "      fill: #D2E3FC;\n",
              "    }\n",
              "\n",
              "    [theme=dark] .colab-df-convert:hover {\n",
              "      background-color: #434B5C;\n",
              "      box-shadow: 0px 1px 3px 1px rgba(0, 0, 0, 0.15);\n",
              "      filter: drop-shadow(0px 1px 2px rgba(0, 0, 0, 0.3));\n",
              "      fill: #FFFFFF;\n",
              "    }\n",
              "  </style>\n",
              "\n",
              "      <script>\n",
              "        const buttonEl =\n",
              "          document.querySelector('#df-b4b06587-a5cb-43b2-a8ba-6afff1823549 button.colab-df-convert');\n",
              "        buttonEl.style.display =\n",
              "          google.colab.kernel.accessAllowed ? 'block' : 'none';\n",
              "\n",
              "        async function convertToInteractive(key) {\n",
              "          const element = document.querySelector('#df-b4b06587-a5cb-43b2-a8ba-6afff1823549');\n",
              "          const dataTable =\n",
              "            await google.colab.kernel.invokeFunction('convertToInteractive',\n",
              "                                                     [key], {});\n",
              "          if (!dataTable) return;\n",
              "\n",
              "          const docLinkHtml = 'Like what you see? Visit the ' +\n",
              "            '<a target=\"_blank\" href=https://colab.research.google.com/notebooks/data_table.ipynb>data table notebook</a>'\n",
              "            + ' to learn more about interactive tables.';\n",
              "          element.innerHTML = '';\n",
              "          dataTable['output_type'] = 'display_data';\n",
              "          await google.colab.output.renderOutput(dataTable, element);\n",
              "          const docLink = document.createElement('div');\n",
              "          docLink.innerHTML = docLinkHtml;\n",
              "          element.appendChild(docLink);\n",
              "        }\n",
              "      </script>\n",
              "    </div>\n",
              "  </div>\n",
              "  "
            ]
          },
          "metadata": {}
        },
        {
          "output_type": "stream",
          "name": "stderr",
          "text": [
            "INFO:logs:master_model_container: 16\n",
            "INFO:logs:display_container: 4\n",
            "INFO:logs:ExtraTreesClassifier(n_jobs=-1, random_state=345)\n",
            "INFO:logs:create_model() successfully completed......................................\n"
          ]
        }
      ]
    },
    {
      "cell_type": "code",
      "source": [
        "plot_model(et_model, plot='confusion_matrix')"
      ],
      "metadata": {
        "colab": {
          "base_uri": "https://localhost:8080/",
          "height": 437,
          "referenced_widgets": [
            "07698eccbda64a6b876069ade3f6d592",
            "68ab02d2c2564f34a2628e1b2b807c5b",
            "aefa53c639a940e480c0aaad38344a7d"
          ]
        },
        "id": "Xh_RudH-Y05l",
        "outputId": "a65b85dc-5199-45f2-bb9b-a20fcd68a8b9"
      },
      "id": "Xh_RudH-Y05l",
      "execution_count": null,
      "outputs": [
        {
          "output_type": "display_data",
          "data": {
            "text/plain": [
              "<Figure size 576x396 with 1 Axes>"
            ],
            "image/png": "[encoded data removed]"
          },
          "metadata": {}
        },
        {
          "output_type": "stream",
          "name": "stderr",
          "text": [
            "INFO:logs:Visual Rendered Successfully\n",
            "INFO:logs:plot_model() successfully completed......................................\n"
          ]
        }
      ]
    },
    {
      "cell_type": "code",
      "source": [
        "plot_model(et_model,plot='feature')"
      ],
      "metadata": {
        "colab": {
          "base_uri": "https://localhost:8080/",
          "height": 514,
          "referenced_widgets": [
            "9a115504d5d941788ff2b0f68a56dd83",
            "0b1832b74e31471387181e1ccbd4b464",
            "9c743e6b76f84102a8026303f21bf1aa"
          ]
        },
        "id": "SEteGPT7ZBzl",
        "outputId": "e19d3f26-cbb3-4548-b569-34856d028e86"
      },
      "id": "SEteGPT7ZBzl",
      "execution_count": null,
      "outputs": [
        {
          "output_type": "display_data",
          "data": {
            "text/plain": [
              "<Figure size 800x500 with 1 Axes>"
            ],
            "image/png": "[encoded data removed]"
          },
          "metadata": {}
        },
        {
          "output_type": "stream",
          "name": "stderr",
          "text": [
            "INFO:logs:Visual Rendered Successfully\n",
            "INFO:logs:plot_model() successfully completed......................................\n"
          ]
        }
      ]
    },
    {
      "cell_type": "code",
      "source": [
        "predictions = predict_model(et_model, data=test_data)\n",
        "predictions, test_data_0"
      ],
      "metadata": {
        "colab": {
          "base_uri": "https://localhost:8080/"
        },
        "id": "SCUnkiBTdePO",
        "outputId": "ddcc6e81-6ed6-4bc6-bd98-22fbea704b44"
      },
      "id": "SCUnkiBTdePO",
      "execution_count": null,
      "outputs": [
        {
          "output_type": "stream",
          "name": "stderr",
          "text": [
            "INFO:logs:Initializing predict_model()\n",
            "INFO:logs:predict_model(estimator=ExtraTreesClassifier(n_jobs=-1, random_state=345), probability_threshold=None, encoded_labels=False, raw_score=False, drift_report=False, round=4, verbose=True, ml_usecase=None, display=None, replace_labels_in_column=<function _SupervisedExperiment.predict_model.<locals>.replace_labels_in_column at 0x7f6c70315c20>, self=<pycaret.classification.oop.ClassificationExperiment object at 0x7f6c70486c10>)\n",
            "INFO:logs:Checking exceptions\n",
            "INFO:logs:Preloading libraries\n",
            "INFO:logs:Preparing display monitor\n"
          ]
        },
        {
          "output_type": "execute_result",
          "data": {
            "text/plain": [
              "(       VIX     M1     M2  VIX3M    VXX        c0        c1        c2  Label  \\\n",
              " 0    14.99  18.25  19.15  18.48  20.10  0.217478  0.049315 -0.034987      0   \n",
              " 1    15.42  16.80  18.45  18.38  18.58  0.089494  0.098214 -0.003794      0   \n",
              " 2    16.16  17.27  18.88  18.86  18.95  0.068688  0.093225 -0.001059      0   \n",
              " 3    16.26  17.10  19.00  18.87  18.76  0.051661  0.111111 -0.006842      0   \n",
              " 4    13.95  16.80  18.45  17.14  16.40  0.204301  0.098214 -0.071003      0   \n",
              " ..     ...    ...    ...    ...    ...       ...       ...       ...    ...   \n",
              " 149  23.87  27.15  27.45  26.55  25.00  0.137411  0.011050 -0.032787      0   \n",
              " 150  23.57  25.20  26.00  26.41  25.49  0.069156  0.031746  0.015769      1   \n",
              " 151  21.67  24.28  25.45  25.30  25.20  0.120443  0.048188 -0.005894      1   \n",
              " 152  19.33  22.00  24.00  23.57  25.00  0.138127  0.090909 -0.017917      1   \n",
              " 153  22.10  23.95  25.53  25.80  24.38  0.083710  0.065971  0.010576      1   \n",
              " \n",
              "      Score  \n",
              " 0     0.03  \n",
              " 1     0.01  \n",
              " 2     0.01  \n",
              " 3     0.01  \n",
              " 4     0.04  \n",
              " ..     ...  \n",
              " 149   0.08  \n",
              " 150   0.33  \n",
              " 151   0.18  \n",
              " 152   0.05  \n",
              " 153   0.27  \n",
              " \n",
              " [154 rows x 10 columns],\n",
              "               VIX     M1     M2  VIX3M    VXX        SPX  after_1m   after_1w  \\\n",
              " Date                                                                            \n",
              " 2016-03-16  14.99  18.25  19.15  18.48  20.10  2027.2200   2080.73  2036.7100   \n",
              " 2016-04-05  15.42  16.80  18.45  18.38  18.58  2045.1700   2051.12  2061.7200   \n",
              " 2016-04-07  16.16  17.27  18.88  18.86  18.95  2041.9100   2057.14  2082.7800   \n",
              " 2016-04-11  16.26  17.10  19.00  18.87  18.76  2041.9900   2084.39  2094.3400   \n",
              " 2016-04-21  13.95  16.80  18.45  17.14  16.40  2091.4800   2052.32  2075.8100   \n",
              " ...           ...    ...    ...    ...    ...        ...       ...        ...   \n",
              " 2022-03-18  23.87  27.15  27.45  26.55  25.00  4463.1201       NaN  4543.0601   \n",
              " 2022-03-23  23.57  25.20  26.00  26.41  25.49  4456.2402       NaN  4602.4502   \n",
              " 2022-03-24  21.67  24.28  25.45  25.30  25.20  4520.1602       NaN  4530.4102   \n",
              " 2022-03-30  19.33  22.00  24.00  23.57  25.00  4602.4502       NaN  4481.1499   \n",
              " 2022-04-06  22.10  23.95  25.53  25.80  24.38  4481.1499       NaN        NaN   \n",
              " \n",
              "             rolling 1m return  rolling 1w return        c0        c1  \\\n",
              " Date                                                                   \n",
              " 2016-03-16           0.026396           0.004681  0.217478  0.049315   \n",
              " 2016-04-05           0.002909           0.008092  0.089494  0.098214   \n",
              " 2016-04-07           0.007459           0.020016  0.068688  0.093225   \n",
              " 2016-04-11           0.020764           0.025637  0.051661  0.111111   \n",
              " 2016-04-21          -0.018724          -0.007492  0.204301  0.098214   \n",
              " ...                       ...                ...       ...       ...   \n",
              " 2022-03-18                NaN           0.017911  0.137411  0.011050   \n",
              " 2022-03-23                NaN           0.032810  0.069156  0.031746   \n",
              " 2022-03-24                NaN           0.002268  0.120443  0.048188   \n",
              " 2022-03-30                NaN          -0.026356  0.138127  0.090909   \n",
              " 2022-04-06                NaN                NaN  0.083710  0.065971   \n",
              " \n",
              "                   c2  SP500 return  signal  signal_weekly  \n",
              " Date                                                       \n",
              " 2016-03-16 -0.034987      0.005585       0              0  \n",
              " 2016-04-05 -0.003794     -0.010196       0              0  \n",
              " 2016-04-07 -0.001059     -0.012048       0              0  \n",
              " 2016-04-11 -0.006842     -0.002744       0              0  \n",
              " 2016-04-21 -0.071003     -0.005208       0              0  \n",
              " ...              ...           ...     ...            ...  \n",
              " 2022-03-18 -0.032787      0.011595       1              0  \n",
              " 2022-03-23  0.015769     -0.012349       1              1  \n",
              " 2022-03-24 -0.005894      0.014242       1              0  \n",
              " 2022-03-30 -0.017917     -0.006314       1              0  \n",
              " 2022-04-06  0.010576     -0.009764       1              1  \n",
              " \n",
              " [154 rows x 16 columns])"
            ]
          },
          "metadata": {},
          "execution_count": 151
        }
      ]
    },
    {
      "cell_type": "code",
      "source": [
        "save_model(et_model,'vix_trading_signal')"
      ],
      "metadata": {
        "colab": {
          "base_uri": "https://localhost:8080/"
        },
        "id": "_nPpfFcsd43x",
        "outputId": "c53b23f5-35e9-496c-c830-c6b641786b62"
      },
      "id": "_nPpfFcsd43x",
      "execution_count": null,
      "outputs": [
        {
          "output_type": "stream",
          "name": "stderr",
          "text": [
            "INFO:logs:Initializing save_model()\n",
            "INFO:logs:save_model(model=ExtraTreesClassifier(n_jobs=-1, random_state=345), model_name=vix_trading_signal, prep_pipe_=Pipeline(memory=Memory(location=/tmp/joblib),\n",
            "         steps=[('numerical_imputer',\n",
            "                 TransfomerWrapper(include=['VIX', 'M1', 'M2', 'VIX3M', 'VXX', 'c0', 'c1', 'c2'], transformer=SimpleImputer())),\n",
            "                ('categorical_imputer',\n",
            "                 TransfomerWrapper(include=[], transformer=SimpleImputer(fill_value='constant', strategy='constant')))]), verbose=True, use_case=MLUsecase.CLASSIFICATION, kwargs={})\n",
            "INFO:logs:Adding model into prep_pipe\n",
            "INFO:logs:vix_trading_signal.pkl saved in current working directory\n",
            "INFO:logs:Pipeline(memory=Memory(location=/tmp/joblib),\n",
            "         steps=[('numerical_imputer',\n",
            "                 TransfomerWrapper(include=['VIX', 'M1', 'M2', 'VIX3M', 'VXX', 'c0', 'c1', 'c2'], transformer=SimpleImputer())),\n",
            "                ('categorical_imputer',\n",
            "                 TransfomerWrapper(include=[], transformer=SimpleImputer(fill_value='constant', strategy='constant'))),\n",
            "                ['trained_model',\n",
            "                 ExtraTreesClassifier(n_jobs=-1, random_state=345)]])\n",
            "INFO:logs:save_model() successfully completed......................................\n"
          ]
        },
        {
          "output_type": "stream",
          "name": "stdout",
          "text": [
            "Transformation Pipeline and Model Successfully Saved\n"
          ]
        },
        {
          "output_type": "execute_result",
          "data": {
            "text/plain": [
              "(Pipeline(memory=Memory(location=/tmp/joblib),\n",
              "          steps=[('numerical_imputer',\n",
              "                  TransfomerWrapper(include=['VIX', 'M1', 'M2', 'VIX3M', 'VXX', 'c0', 'c1', 'c2'], transformer=SimpleImputer())),\n",
              "                 ('categorical_imputer',\n",
              "                  TransfomerWrapper(include=[], transformer=SimpleImputer(fill_value='constant', strategy='constant'))),\n",
              "                 ['trained_model',\n",
              "                  ExtraTreesClassifier(n_jobs=-1, random_state=345)]]),\n",
              " 'vix_trading_signal.pkl')"
            ]
          },
          "metadata": {},
          "execution_count": 152
        }
      ]
    },
    {
      "cell_type": "code",
      "source": [
        "#backtesting\n",
        "#the performance portfolio following trading signals \n"
      ],
      "metadata": {
        "id": "FFbaRpwWfqFN"
      },
      "id": "FFbaRpwWfqFN",
      "execution_count": null,
      "outputs": []
    }
  ],
  "metadata": {
    "kernelspec": {
      "display_name": "Python 3",
      "language": "python",
      "name": "python3"
    },
    "language_info": {
      "codemirror_mode": {
        "name": "ipython",
        "version": 3
      },
      "file_extension": ".py",
      "mimetype": "text/x-python",
      "name": "python",
      "nbconvert_exporter": "python",
      "pygments_lexer": "ipython3",
      "version": "3.8.8"
    },
    "colab": {
      "provenance": [],
      "collapsed_sections": [],
      "include_colab_link": true
    },
    "widgets": {
      "application/vnd.jupyter.widget-state+json": {
        "cb654fdd5a304bd884c2eaa2e81a3bd6": {
          "model_module": "@jupyter-widgets/controls",
          "model_name": "IntProgressModel",
          "model_module_version": "1.5.0",
          "state": {
            "_dom_classes": [],
            "_model_module": "@jupyter-widgets/controls",
            "_model_module_version": "1.5.0",
            "_model_name": "IntProgressModel",
            "_view_count": null,
            "_view_module": "@jupyter-widgets/controls",
            "_view_module_version": "1.5.0",
            "_view_name": "ProgressView",
            "bar_style": "",
            "description": "Processing: ",
            "description_tooltip": null,
            "layout": "IPY_MODEL_a41e88fdf0804610bb8a9511703ecdef",
            "max": 74,
            "min": 0,
            "orientation": "horizontal",
            "style": "IPY_MODEL_dec058a5b00e4aa891fe439e0a3d221c",
            "value": 74
          }
        },
        "a41e88fdf0804610bb8a9511703ecdef": {
          "model_module": "@jupyter-widgets/base",
          "model_name": "LayoutModel",
          "model_module_version": "1.2.0",
          "state": {
            "_model_module": "@jupyter-widgets/base",
            "_model_module_version": "1.2.0",
            "_model_name": "LayoutModel",
            "_view_count": null,
            "_view_module": "@jupyter-widgets/base",
            "_view_module_version": "1.2.0",
            "_view_name": "LayoutView",
            "align_content": null,
            "align_items": null,
            "align_self": null,
            "border": null,
            "bottom": null,
            "display": null,
            "flex": null,
            "flex_flow": null,
            "grid_area": null,
            "grid_auto_columns": null,
            "grid_auto_flow": null,
            "grid_auto_rows": null,
            "grid_column": null,
            "grid_gap": null,
            "grid_row": null,
            "grid_template_areas": null,
            "grid_template_columns": null,
            "grid_template_rows": null,
            "height": null,
            "justify_content": null,
            "justify_items": null,
            "left": null,
            "margin": null,
            "max_height": null,
            "max_width": null,
            "min_height": null,
            "min_width": null,
            "object_fit": null,
            "object_position": null,
            "order": null,
            "overflow": null,
            "overflow_x": null,
            "overflow_y": null,
            "padding": null,
            "right": null,
            "top": null,
            "visibility": null,
            "width": null
          }
        },
        "dec058a5b00e4aa891fe439e0a3d221c": {
          "model_module": "@jupyter-widgets/controls",
          "model_name": "ProgressStyleModel",
          "model_module_version": "1.5.0",
          "state": {
            "_model_module": "@jupyter-widgets/controls",
            "_model_module_version": "1.5.0",
            "_model_name": "ProgressStyleModel",
            "_view_count": null,
            "_view_module": "@jupyter-widgets/base",
            "_view_module_version": "1.2.0",
            "_view_name": "StyleView",
            "bar_color": null,
            "description_width": ""
          }
        },
        "f4d4049361e44c7ba5401f2eb7ad7479": {
          "model_module": "@jupyter-widgets/controls",
          "model_name": "IntProgressModel",
          "model_module_version": "1.5.0",
          "state": {
            "_dom_classes": [],
            "_model_module": "@jupyter-widgets/controls",
            "_model_module_version": "1.5.0",
            "_model_name": "IntProgressModel",
            "_view_count": null,
            "_view_module": "@jupyter-widgets/controls",
            "_view_module_version": "1.5.0",
            "_view_name": "ProgressView",
            "bar_style": "",
            "description": "Processing: ",
            "description_tooltip": null,
            "layout": "IPY_MODEL_21d16890485a4137a844a018ea2b533d",
            "max": 4,
            "min": 0,
            "orientation": "horizontal",
            "style": "IPY_MODEL_d7a3b2cb11bd4ef993b43f0814dd8eba",
            "value": 4
          }
        },
        "21d16890485a4137a844a018ea2b533d": {
          "model_module": "@jupyter-widgets/base",
          "model_name": "LayoutModel",
          "model_module_version": "1.2.0",
          "state": {
            "_model_module": "@jupyter-widgets/base",
            "_model_module_version": "1.2.0",
            "_model_name": "LayoutModel",
            "_view_count": null,
            "_view_module": "@jupyter-widgets/base",
            "_view_module_version": "1.2.0",
            "_view_name": "LayoutView",
            "align_content": null,
            "align_items": null,
            "align_self": null,
            "border": null,
            "bottom": null,
            "display": null,
            "flex": null,
            "flex_flow": null,
            "grid_area": null,
            "grid_auto_columns": null,
            "grid_auto_flow": null,
            "grid_auto_rows": null,
            "grid_column": null,
            "grid_gap": null,
            "grid_row": null,
            "grid_template_areas": null,
            "grid_template_columns": null,
            "grid_template_rows": null,
            "height": null,
            "justify_content": null,
            "justify_items": null,
            "left": null,
            "margin": null,
            "max_height": null,
            "max_width": null,
            "min_height": null,
            "min_width": null,
            "object_fit": null,
            "object_position": null,
            "order": null,
            "overflow": null,
            "overflow_x": null,
            "overflow_y": null,
            "padding": null,
            "right": null,
            "top": null,
            "visibility": null,
            "width": null
          }
        },
        "d7a3b2cb11bd4ef993b43f0814dd8eba": {
          "model_module": "@jupyter-widgets/controls",
          "model_name": "ProgressStyleModel",
          "model_module_version": "1.5.0",
          "state": {
            "_model_module": "@jupyter-widgets/controls",
            "_model_module_version": "1.5.0",
            "_model_name": "ProgressStyleModel",
            "_view_count": null,
            "_view_module": "@jupyter-widgets/base",
            "_view_module_version": "1.2.0",
            "_view_name": "StyleView",
            "bar_color": null,
            "description_width": ""
          }
        },
        "07698eccbda64a6b876069ade3f6d592": {
          "model_module": "@jupyter-widgets/controls",
          "model_name": "IntProgressModel",
          "model_module_version": "1.5.0",
          "state": {
            "_dom_classes": [],
            "_model_module": "@jupyter-widgets/controls",
            "_model_module_version": "1.5.0",
            "_model_name": "IntProgressModel",
            "_view_count": null,
            "_view_module": "@jupyter-widgets/controls",
            "_view_module_version": "1.5.0",
            "_view_name": "ProgressView",
            "bar_style": "",
            "description": "Processing: ",
            "description_tooltip": null,
            "layout": "IPY_MODEL_68ab02d2c2564f34a2628e1b2b807c5b",
            "max": 5,
            "min": 0,
            "orientation": "horizontal",
            "style": "IPY_MODEL_aefa53c639a940e480c0aaad38344a7d",
            "value": 5
          }
        },
        "68ab02d2c2564f34a2628e1b2b807c5b": {
          "model_module": "@jupyter-widgets/base",
          "model_name": "LayoutModel",
          "model_module_version": "1.2.0",
          "state": {
            "_model_module": "@jupyter-widgets/base",
            "_model_module_version": "1.2.0",
            "_model_name": "LayoutModel",
            "_view_count": null,
            "_view_module": "@jupyter-widgets/base",
            "_view_module_version": "1.2.0",
            "_view_name": "LayoutView",
            "align_content": null,
            "align_items": null,
            "align_self": null,
            "border": null,
            "bottom": null,
            "display": null,
            "flex": null,
            "flex_flow": null,
            "grid_area": null,
            "grid_auto_columns": null,
            "grid_auto_flow": null,
            "grid_auto_rows": null,
            "grid_column": null,
            "grid_gap": null,
            "grid_row": null,
            "grid_template_areas": null,
            "grid_template_columns": null,
            "grid_template_rows": null,
            "height": null,
            "justify_content": null,
            "justify_items": null,
            "left": null,
            "margin": null,
            "max_height": null,
            "max_width": null,
            "min_height": null,
            "min_width": null,
            "object_fit": null,
            "object_position": null,
            "order": null,
            "overflow": null,
            "overflow_x": null,
            "overflow_y": null,
            "padding": null,
            "right": null,
            "top": null,
            "visibility": null,
            "width": null
          }
        },
        "aefa53c639a940e480c0aaad38344a7d": {
          "model_module": "@jupyter-widgets/controls",
          "model_name": "ProgressStyleModel",
          "model_module_version": "1.5.0",
          "state": {
            "_model_module": "@jupyter-widgets/controls",
            "_model_module_version": "1.5.0",
            "_model_name": "ProgressStyleModel",
            "_view_count": null,
            "_view_module": "@jupyter-widgets/base",
            "_view_module_version": "1.2.0",
            "_view_name": "StyleView",
            "bar_color": null,
            "description_width": ""
          }
        },
        "9a115504d5d941788ff2b0f68a56dd83": {
          "model_module": "@jupyter-widgets/controls",
          "model_name": "IntProgressModel",
          "model_module_version": "1.5.0",
          "state": {
            "_dom_classes": [],
            "_model_module": "@jupyter-widgets/controls",
            "_model_module_version": "1.5.0",
            "_model_name": "IntProgressModel",
            "_view_count": null,
            "_view_module": "@jupyter-widgets/controls",
            "_view_module_version": "1.5.0",
            "_view_name": "ProgressView",
            "bar_style": "",
            "description": "Processing: ",
            "description_tooltip": null,
            "layout": "IPY_MODEL_0b1832b74e31471387181e1ccbd4b464",
            "max": 5,
            "min": 0,
            "orientation": "horizontal",
            "style": "IPY_MODEL_9c743e6b76f84102a8026303f21bf1aa",
            "value": 5
          }
        },
        "0b1832b74e31471387181e1ccbd4b464": {
          "model_module": "@jupyter-widgets/base",
          "model_name": "LayoutModel",
          "model_module_version": "1.2.0",
          "state": {
            "_model_module": "@jupyter-widgets/base",
            "_model_module_version": "1.2.0",
            "_model_name": "LayoutModel",
            "_view_count": null,
            "_view_module": "@jupyter-widgets/base",
            "_view_module_version": "1.2.0",
            "_view_name": "LayoutView",
            "align_content": null,
            "align_items": null,
            "align_self": null,
            "border": null,
            "bottom": null,
            "display": null,
            "flex": null,
            "flex_flow": null,
            "grid_area": null,
            "grid_auto_columns": null,
            "grid_auto_flow": null,
            "grid_auto_rows": null,
            "grid_column": null,
            "grid_gap": null,
            "grid_row": null,
            "grid_template_areas": null,
            "grid_template_columns": null,
            "grid_template_rows": null,
            "height": null,
            "justify_content": null,
            "justify_items": null,
            "left": null,
            "margin": null,
            "max_height": null,
            "max_width": null,
            "min_height": null,
            "min_width": null,
            "object_fit": null,
            "object_position": null,
            "order": null,
            "overflow": null,
            "overflow_x": null,
            "overflow_y": null,
            "padding": null,
            "right": null,
            "top": null,
            "visibility": null,
            "width": null
          }
        },
        "9c743e6b76f84102a8026303f21bf1aa": {
          "model_module": "@jupyter-widgets/controls",
          "model_name": "ProgressStyleModel",
          "model_module_version": "1.5.0",
          "state": {
            "_model_module": "@jupyter-widgets/controls",
            "_model_module_version": "1.5.0",
            "_model_name": "ProgressStyleModel",
            "_view_count": null,
            "_view_module": "@jupyter-widgets/base",
            "_view_module_version": "1.2.0",
            "_view_name": "StyleView",
            "bar_color": null,
            "description_width": ""
          }
        }
      }
    }
  },
  "nbformat": 4,
  "nbformat_minor": 5
}